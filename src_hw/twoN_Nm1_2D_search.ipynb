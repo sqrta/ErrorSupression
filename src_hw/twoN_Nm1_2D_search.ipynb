{
 "cells": [
  {
   "cell_type": "code",
   "execution_count": 4,
   "id": "d13d6c8a",
   "metadata": {},
   "outputs": [],
   "source": [
    "from Hamil_search1 import *\n",
    "from simulation import blocks2Mat\n",
    "import numpy as np\n",
    "import scipy.sparse as sp"
   ]
  },
  {
   "cell_type": "code",
   "execution_count": 9,
   "id": "4c6e7f13",
   "metadata": {},
   "outputs": [],
   "source": [
    "def zero_eigen_projector(H, tol=1e-10):\n",
    "    \"\"\"\n",
    "    Compute the projector onto the zero-eigenvalue subspace of sparse matrix H.\n",
    "\n",
    "    Parameters\n",
    "    ----------\n",
    "    H : scipy.sparse matrix or ndarray\n",
    "        The (square) matrix whose zero-eigenvalue projector to compute.\n",
    "    tol : float, optional\n",
    "        Numerical tolerance to consider eigenvalues as zero.\n",
    "\n",
    "    Returns\n",
    "    -------\n",
    "    P : np.ndarray\n",
    "        The dense projector matrix onto the null space of H.\n",
    "    \"\"\"\n",
    "    # Convert to dense if small enough; otherwise use sparse solver\n",
    "    n = H.shape[0]\n",
    "    if sp.issparse(H):\n",
    "        H = H.tocsc()\n",
    "\n",
    "    # Try to find all eigenvalues (dense path if small)\n",
    "\n",
    "    H_dense = H.toarray() if sp.issparse(H) else H\n",
    "    eigvals, eigvecs = np.linalg.eigh(H_dense)\n",
    "    # a = np.array([1 if abs(x) < 0.5 else 0 for x in eigvals])\n",
    "    # P0 = eigvecs @ (np.expand_dims(a, axis=1) * eigvecs.conj().T)\n",
    "    b = np.array([1/x if abs(x) > 0.5 else 0 for x in eigvals])\n",
    "    HpenInverse = eigvecs @ (np.expand_dims(b, axis=1) * eigvals.conj().T)\n",
    "\n",
    "    # Find indices of (numerically) zero eigenvalues\n",
    "    zero_idx = np.where(np.abs(eigvals) < tol)[0]\n",
    "\n",
    "    if len(zero_idx) == 0:\n",
    "        # No zero eigenvalues → zero projector\n",
    "        print(\"No zero eigenvalues\")\n",
    "        return np.zeros((n, n), dtype=complex), None\n",
    "\n",
    "    # Form projector P = sum_i v_i v_i†\n",
    "    eigvecs_zero = eigvecs[:, zero_idx]\n",
    "    print(f\"eigvecs_zero shape {eigvecs_zero.shape}\")\n",
    "    P = eigvecs_zero @ eigvecs_zero.conj().T\n",
    "\n",
    "    return P, HpenInverse"
   ]
  },
  {
   "cell_type": "code",
   "execution_count": 10,
   "id": "11538078",
   "metadata": {},
   "outputs": [
    {
     "name": "stdout",
     "output_type": "stream",
     "text": [
      "(4096, 4096)\n",
      "eigvecs_zero shape (4096, 344)\n",
      "(4096, 4096)\n"
     ]
    }
   ],
   "source": [
    "# blockSize = 6\n",
    "# m = n // 2\n",
    "# Xlist = [\"X0*X1\", \"-1*X2*X3\"]\n",
    "# Zlist = [\"2*Z2*Z3\", \"-2*Z4*Z5\"]\n",
    "# Ylist = [f\"-{int(2**(m-1))}*Y0*Y1\", f\"{int(2**(m-1))}*Y{n-2}*Y{n-1}\"]\n",
    "# Hlist = Xlist + Ylist + Zlist\n",
    "# print(Hlist)\n",
    "\n",
    "def getHpen(blockNum):\n",
    "    \"\"\"\n",
    "    `blockSize` means number of physical qubits in each block.\n",
    "\n",
    "    e.g. `getHpen(8,2)` returns X0X1+3Z0Z1+X2X3+3Z2Z3+X4X5+3Z4Z5+X6X7+3Z6Z7\n",
    "    \"\"\"\n",
    "    blockSize = 6\n",
    "    Hpen_block = []\n",
    "    m = blockSize // 2\n",
    "    for i in range(blockNum):\n",
    "        Hpen_block += [(1, f'X{6*i}*X{6*i+1}'), (2, f'Z{6*i+2}*Z{6*i+3}'), (-1, f'X{6*i+2}*X{6*i+3}'), (-2, f'Z{6*i+4}*Z{6*i+5}')]\n",
    "        Hpen_block+= [(-int(2**(m-1)), f'Y{6*i}*Y{6*i+1}'), (int(2**(m-1)), f\"Y{6*(i+1)-2}*Y{6*(i+1)-1}\")]\n",
    "    Hpen = blocks2Mat(blockSize * blockNum, Hpen_block)\n",
    "    return Hpen\n",
    "blockSize = 6\n",
    "blockNum = 2\n",
    "H = getHpen(blockNum)\n",
    "n = blockSize * blockNum\n",
    "print(H.shape)\n",
    "config = {\"target\": 0, \"distance\": 2, \"depth\": 2, \"thres\": 1}\n",
    "# P = get_zero_projector(H, 64)\n",
    "P, HpenInverse = zero_eigen_projector(H)\n",
    "print(P.shape)\n",
    "# # Hinv = np.linalg.pinv(H)\n",
    "# space = getSpace(n, H, config)"
   ]
  },
  {
   "cell_type": "code",
   "execution_count": 11,
   "id": "78c5860b",
   "metadata": {},
   "outputs": [
    {
     "data": {
      "text/plain": [
       "1.0 * X(0)"
      ]
     },
     "execution_count": 11,
     "metadata": {},
     "output_type": "execute_result"
    }
   ],
   "source": [
    "import pennylane as qml\n",
    "\n",
    "def load_or_precompute(n_block):\n",
    "    gx, gz = 1, 3\n",
    "    if not os.path.exists(f\"Hpen_{n_block}blocks.npy\"):\n",
    "        n_phys = 4 * n_block\n",
    "        Hpen_terms = []\n",
    "        for i in range(n_block):\n",
    "            Hpen_terms += [(gx, f'X{4*i}*X{4*i+1}'), (gz, f'Z{4*i}*Z{4*i+1}'),\n",
    "                        (gx, f'X{4*i+2}*X{4*i+3}'), (gz, f'Z{4*i+2}*Z{4*i+3}')]\n",
    "        Hpen = blocks2Mat(n_phys, Hpen_terms)\n",
    "        P0, HpenInverse = get_P0_HpenInverse(Hpen)\n",
    "        Uenc = getU(4, n_block)\n",
    "        Penc = Uenc @ Uenc.conj().T\n",
    "        np.save(f'Hpen_{n_block}blocks', Hpen)\n",
    "        np.save(f'HpenInverse_{n_block}blocks', HpenInverse)\n",
    "        np.save(f'P0_{n_block}blocks', P0)\n",
    "        np.save(f'Uenc_{n_block}blocks', Uenc)\n",
    "        np.save(f'Penc_{n_block}blocks', Penc)\n",
    "    \n",
    "    Hpen = np.load(f'Hpen_{n_block}blocks.npy')\n",
    "    HpenInverse = np.load(f'HpenInverse_{n_block}blocks.npy')\n",
    "    P0 = np.load(f'P0_{n_block}blocks.npy')\n",
    "    Uenc = np.load(f'Uenc_{n_block}blocks.npy')\n",
    "    Penc = np.load(f'Penc_{n_block}blocks.npy')\n",
    "    \n",
    "    return Hpen, HpenInverse, P0, Uenc, Penc\n",
    "\n",
    "def test_leakage_and_get_logical_interaction(HpenInverse, P0, Penc, Uenc, Henc):\n",
    "    A = Henc @ HpenInverse @ Henc\n",
    "    off_diag = (P0 - Penc) @ A @ Penc\n",
    "    if checkSame(off_diag, np.zeros(off_diag.shape)):\n",
    "        print(\"no leakage\")\n",
    "    else:\n",
    "        print(\"yes leakage\")\n",
    "    Hlogi = - Uenc.conj().T @ A @ Uenc\n",
    "    return qml.pauli_decompose(Hlogi)\n",
    "    \n",
    "\n",
    "def get_P0_HpenInverse(Hpen):\n",
    "    \"\"\"\n",
    "    Make sure that the eigenvalues of Hpen are all integers\n",
    "    \"\"\"\n",
    "    e, u = np.linalg.eigh(Hpen)\n",
    "\n",
    "    a = np.array([1 if abs(x) < 0.5 else 0 for x in e])\n",
    "    P0 = u @ (np.expand_dims(a, axis=1) * u.conj().T)\n",
    "\n",
    "    b = np.array([1/x if abs(x) > 0.5 else 0 for x in e])\n",
    "    HpenInverse = u @ (np.expand_dims(b, axis=1) * u.conj().T)\n",
    "\n",
    "    return P0, HpenInverse\n",
    "\n",
    "qml.pauli_decompose(np.array(X))"
   ]
  },
  {
   "cell_type": "code",
   "execution_count": 12,
   "id": "d2365fc0",
   "metadata": {},
   "outputs": [],
   "source": [
    "a1 = [(\"00\", \"11\"), (\"00\", \"11\"), (\"00\", \"11\")]\n",
    "a2 = [(\"00\", \"11\"), (\"01\", \"10\"), (\"01\", \"-10\")]\n",
    "a3 = [(\"00\", \"-11\"), (\"00\", \"-11\"), (\"00\", \"-11\")]\n",
    "a4 = [(\"00\", \"-11\"), (\"01\", \"-10\"), (\"01\", \"10\")]\n",
    "a5 = [(\"01\", \"10\"), (\"00\", \"11\"), (\"00\", \"-11\")]\n",
    "a6 = [(\"01\", \"10\"), (\"01\", \"10\"), (\"01\", \"10\")]\n",
    "a7 = [(\"01\", \"-10\"), (\"00\", \"-11\"), (\"00\", \"11\")]\n",
    "a8 = [(\"01\", \"-10\"), (\"01\", \"-10\"), (\"01\", \"-10\")]\n",
    "ap = [a5, a6, a1, a2, a3, a4, a7, a8]\n",
    "eff = [1, 1j, 1, 1j, 1j, -1, -1j, 1]\n",
    "\n",
    "\n",
    "def vec(a):\n",
    "    v1, v2, v3 = ket2Vec(2, a[0]), ket2Vec(2, a[1]), ket2Vec(2, a[2])\n",
    "    return np.kron(np.kron(v1, v2), v3)\n",
    "\n",
    "Hsingle = getHpen(1)\n",
    "vecs = []\n",
    "for i in range(len(ap)):\n",
    "    a = ap[i]\n",
    "    v = eff[i] * vec(a)\n",
    "    # print(LA.norm(v))\n",
    "    result = Hsingle @ v - np.zeros(v.shape)\n",
    "    vecs.append(v)\n",
    "    # print(LA.norm(result) < 1e-4)\n",
    "U = np.column_stack(tuple(vecs))"
   ]
  },
  {
   "cell_type": "code",
   "execution_count": 19,
   "id": "0311145d",
   "metadata": {},
   "outputs": [],
   "source": [
    "H = getHpen(blockNum)\n",
    "HpenInverse2 = np.linalg.pinv(H)"
   ]
  },
  {
   "cell_type": "code",
   "execution_count": 23,
   "id": "6e1cab22",
   "metadata": {},
   "outputs": [
    {
     "name": "stdout",
     "output_type": "stream",
     "text": [
      "True\n",
      "HpenInverse is hermitian? True\n"
     ]
    }
   ],
   "source": [
    "HI =  H @ HpenInverse2 @ H\n",
    "Uenc = np.kron(U, U)\n",
    "Penc = Uenc @ Uenc.conj().T\n",
    "print(np.allclose(HI, H))\n",
    "print(f\"HpenInverse is hermitian? {np.allclose(HpenInverse2, HpenInverse2.conj().T)}\")"
   ]
  },
  {
   "cell_type": "code",
   "execution_count": 25,
   "id": "53ebdf9f",
   "metadata": {},
   "outputs": [
    {
     "name": "stdout",
     "output_type": "stream",
     "text": [
      "Generated 324 unique single terms.\n",
      "\n",
      "Generated a total of 52326 unique Henc_terms.\n",
      "\n",
      "--- Sample of the first 5 terms ---\n",
      "[(1, 'X0*X6'), (1, 'X0*X7')]\n",
      "[(1, 'X0*X6'), (1, 'X0*X8')]\n",
      "[(1, 'X0*X6'), (1, 'X0*X9')]\n",
      "[(1, 'X0*X6'), (1, 'X0*X10')]\n",
      "[(1, 'X0*X6'), (1, 'X0*X11')]\n",
      "\n",
      "--- Sample of the last 5 terms ---\n",
      "[(1, 'Z5*Z10'), (1, 'Z5*Z11')]\n",
      "[(1, 'Z5*Z9'), (1, 'Z5*Z11')]\n",
      "[(1, 'Z5*Z9'), (1, 'Z5*Z10')]\n",
      "[(1, 'Z5*Z8'), (1, 'Z5*Z11')]\n",
      "[(1, 'Z5*Z8'), (1, 'Z5*Z10')]\n"
     ]
    }
   ],
   "source": [
    "import itertools\n",
    "\n",
    "def generate_henc_terms():\n",
    "    \"\"\"\n",
    "    Generates a list of all possible Henc terms, where each term is a\n",
    "    list of two unique (1, 'P_string') tuples.\n",
    "    \"\"\"\n",
    "    \n",
    "    # --- Step 1: Generate all possible single (1, 'P_string') tuples ---\n",
    "    \n",
    "    all_single_terms = []\n",
    "    paulis = ['X', 'Y', 'Z']\n",
    "    indices_low = range(6)      # 0 to 5\n",
    "    indices_high = range(6, 12) # 6 to 11\n",
    "\n",
    "    # Loop through all combinations to create the canonical single terms\n",
    "    for p1 in paulis:\n",
    "        for i1 in indices_low:\n",
    "            for p2 in paulis:\n",
    "                for i2 in indices_high:\n",
    "                    # Create the canonical pauli string, e.g., 'X1*Y6'\n",
    "                    # The low index (0-5) is always first.\n",
    "                    pauli_string = f'{p1}{i1}*{p2}{i2}'\n",
    "                    \n",
    "                    # Create the tuple as defined\n",
    "                    single_term = (1, pauli_string)\n",
    "                    all_single_terms.append(single_term)\n",
    "    \n",
    "    num_single_terms = len(all_single_terms)\n",
    "    # This should be (3 paulis * 6 indices) * (3 paulis * 6 indices) = 18 * 18 = 324\n",
    "    print(f\"Generated {num_single_terms} unique single terms.\")\n",
    "    \n",
    "    \n",
    "    # --- Step 2: Generate all unique pairs of these single terms ---\n",
    "    \n",
    "    # Use itertools.combinations(iterable, 2) to get all unique pairs.\n",
    "    # This automatically handles the constraint that [(A, B)] is the \n",
    "    # same as [(B, A)] by only generating one of them.\n",
    "    # It produces tuples of tuples, e.g., ((1, 'A'), (1, 'B'))\n",
    "    \n",
    "    final_henc_terms = []\n",
    "    for term_pair_tuple in itertools.combinations(all_single_terms, 2):\n",
    "        # Convert the tuple of tuples to the desired list of tuples\n",
    "        final_henc_terms.append(list(term_pair_tuple))\n",
    "            \n",
    "    return final_henc_terms\n",
    "all_terms = generate_henc_terms()\n",
    "    \n",
    "# The total number of pairs is \"n C 2\" or (n * (n-1)) / 2\n",
    "# (324 * 323) / 2 = 52,326\n",
    "print(f\"\\nGenerated a total of {len(all_terms)} unique Henc_terms.\")\n",
    "\n",
    "print(\"\\n--- Sample of the first 5 terms ---\")\n",
    "for i in range(5):\n",
    "    print(all_terms[i])\n",
    "    \n",
    "print(\"\\n--- Sample of the last 5 terms ---\")\n",
    "for i in range(1, 6):\n",
    "    print(all_terms[-i])"
   ]
  },
  {
   "cell_type": "code",
   "execution_count": null,
   "id": "86ce5494",
   "metadata": {},
   "outputs": [
    {
     "name": "stdout",
     "output_type": "stream",
     "text": [
      "0\n",
      "no leakage\n",
      "1\n",
      "no leakage\n"
     ]
    }
   ],
   "source": [
    "with open('result', 'w') as f:\n",
    "    for i in range(len(all_terms)):\n",
    "\n",
    "        Henc_terms = all_terms[i]\n",
    "\n",
    "        Henc = blocks2Mat(12, Henc_terms)\n",
    "        # print(f\"Henc is hermitian? {np.allclose(Henc, Henc.conj().T)}\")\n",
    "        # print(f\"Uenc is hermitian? {np.allclose(Uenc, Uenc.conj().T)}\")\n",
    "        print(i)\n",
    "        res = test_leakage_and_get_logical_interaction(HpenInverse2, P, Penc, Uenc, Henc)\n",
    "        f.write(f\"{i}: {Henc_terms}\\n {res}\\n\\n\")"
   ]
  },
  {
   "cell_type": "code",
   "execution_count": null,
   "id": "f92b70e3",
   "metadata": {},
   "outputs": [],
   "source": []
  }
 ],
 "metadata": {
  "kernelspec": {
   "display_name": "py310",
   "language": "python",
   "name": "python3"
  },
  "language_info": {
   "codemirror_mode": {
    "name": "ipython",
    "version": 3
   },
   "file_extension": ".py",
   "mimetype": "text/x-python",
   "name": "python",
   "nbconvert_exporter": "python",
   "pygments_lexer": "ipython3",
   "version": "3.10.12"
  }
 },
 "nbformat": 4,
 "nbformat_minor": 5
}
