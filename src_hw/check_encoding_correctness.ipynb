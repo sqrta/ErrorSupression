{
 "cells": [
  {
   "cell_type": "code",
   "execution_count": 1,
   "metadata": {},
   "outputs": [],
   "source": [
    "from Hamil_search import *\n",
    "from simulation import *\n",
    "import numpy as np\n",
    "import pennylane as qml"
   ]
  },
  {
   "cell_type": "code",
   "execution_count": 2,
   "metadata": {},
   "outputs": [],
   "source": [
    "def get_P0_HpenInverse(Hpen):\n",
    "    \"\"\"\n",
    "    Make sure that the eigenvalues of Hpen are all integers\n",
    "    \"\"\"\n",
    "    e, u = np.linalg.eigh(Hpen)\n",
    "\n",
    "    a = np.array([1 if abs(x) < 0.5 else 0 for x in e])\n",
    "    P0 = u @ (np.expand_dims(a, axis=1) * u.conj().T)\n",
    "\n",
    "    b = np.array([1/x if abs(x) > 0.5 else 0 for x in e])\n",
    "    HpenInverse = u @ (np.expand_dims(b, axis=1) * u.conj().T)\n",
    "\n",
    "    return P0, HpenInverse\n",
    "\n",
    "def check(HpenInverse, P0, Penc, Uenc, Henc1, Henc2):\n",
    "    # check Henc2 is zero up to 1st order\n",
    "    print(\"Check Henc2 is zero up to 1st order perturbation...\")\n",
    "    if checkSame(P0 @ Henc2 @ P0, np.zeros(P0.shape)):\n",
    "        print(\"Pass\")\n",
    "    else:\n",
    "        print(\"Not Pass\")\n",
    "        return\n",
    "    \n",
    "    A = Henc1 - Henc2 @ HpenInverse @ Henc2 # P0 @ A @ P0 is the effective hamiltonian up to 2nd order\n",
    "\n",
    "    # check there is no zero-energy leakage\n",
    "    print(\"Check there is no zero-energy leakage...\")\n",
    "    if checkSame((P0 - Penc) @ A @ Penc, np.zeros(P0.shape)):\n",
    "        print(\"Pass\")\n",
    "    else:\n",
    "        print(\"Not Pass\")\n",
    "        return\n",
    "\n",
    "    # print logical interaction\n",
    "    print(\"Logical interaction:\")\n",
    "    Hlogi = Uenc.conj().T @ A @ Uenc\n",
    "    print(qml.pauli_decompose(Hlogi, hide_identity=True, pauli=True))"
   ]
  },
  {
   "cell_type": "markdown",
   "metadata": {},
   "source": [
    "# 1D TFIM"
   ]
  },
  {
   "cell_type": "code",
   "execution_count": 3,
   "metadata": {},
   "outputs": [
    {
     "name": "stdout",
     "output_type": "stream",
     "text": [
      "Check Henc2 is zero up to 1st order perturbation...\n",
      "Pass\n",
      "Check there is no zero-energy leakage...\n",
      "Pass\n",
      "Logical interaction:\n",
      "0.9999999999999996 * X(3)\n",
      "+ 0.9999999999999996 * Z(3)\n",
      "+ 0.9999999999999997 * X(2)\n",
      "+ 0.9999999999999996 * Z(2)\n",
      "+ 0.9999999999999993 * Z(2) @ Z(3)\n",
      "+ 0.9999999999999996 * X(1)\n",
      "+ 0.9999999999999997 * Z(1)\n",
      "+ 0.9999999999999994 * Z(1) @ Z(2)\n",
      "+ 0.9999999999999996 * X(0)\n",
      "+ 0.9999999999999997 * Z(0)\n",
      "+ 0.9999999999999994 * Z(0) @ Z(1)\n"
     ]
    }
   ],
   "source": [
    "n_block = 2\n",
    "n_phys = 4 * n_block\n",
    "\n",
    "Hpen_terms = [(1, f'X{4*i}*X{4*i+1}+3*Z{4*i}*Z{4*i+1}+X{4*i+2}*X{4*i+3}+3*Z{4*i+2}*Z{4*i+3}') \n",
    "              for i in range(n_block)]\n",
    "Hpen = blocks2Mat(n_phys, Hpen_terms)\n",
    "P0, HpenInverse = get_P0_HpenInverse(Hpen)\n",
    "Uenc = getU(4, n_block)\n",
    "Penc = Uenc @ Uenc.conj().T\n",
    "\n",
    "Henc1_terms = [(1, f'X{4*i}*X{4*i+1}+(-1)*X{4*i}*X{4*i+2}') # logical X\n",
    "               for i in range(n_block)]\n",
    "Henc1_terms += [(1, f'Z{4*i}*Z{4*i+1}+Z{4*i}*Z{4*i+2}') # logical Z\n",
    "               for i in range(n_block)]\n",
    "Henc1_terms += [(1, f'Z{4*i+1}*Z{4*i+2}') # inner-block logical ZZ\n",
    "               for i in range(n_block)]\n",
    "Henc1_terms += [(1, f'Z{4*i+4}*Z{4*i+5}') # compensate for residual terms from cross-block gadget\n",
    "                for i in range(n_block-1)]\n",
    "Henc1 = blocks2Mat(n_phys, Henc1_terms)\n",
    "\n",
    "Henc2_terms = [(np.sqrt(8/3), f'Z{4*i+1}*X{4*i+6}+Z{4*i+3}*X{4*i+6}')\n",
    "               for i in range(n_block-1)] # cross-block logical ZZ\n",
    "Henc2 = blocks2Mat(n_phys, Henc2_terms)\n",
    "\n",
    "check(HpenInverse, P0, Penc, Uenc, Henc1, Henc2)\n"
   ]
  },
  {
   "cell_type": "markdown",
   "metadata": {},
   "source": [
    "# 1D XZ chain"
   ]
  },
  {
   "cell_type": "code",
   "execution_count": 4,
   "metadata": {},
   "outputs": [
    {
     "name": "stdout",
     "output_type": "stream",
     "text": [
      "Check Henc2 is zero up to 1st order perturbation...\n",
      "Pass\n",
      "Check there is no zero-energy leakage...\n",
      "Pass\n",
      "Logical interaction:\n",
      "0.9999999999999996 * X(2) @ X(3)\n",
      "+ 0.9999999999999998 * Z(2) @ Z(3)\n",
      "+ 1.0 * X(1) @ X(2)\n",
      "+ 0.9999999999999996 * Z(1) @ Z(2)\n",
      "+ 0.9999999999999993 * X(0) @ X(1)\n",
      "+ 0.9999999999999998 * Z(0) @ Z(1)\n"
     ]
    }
   ],
   "source": [
    "n_block = 2\n",
    "n_phys = 4 * n_block\n",
    "\n",
    "Hpen_terms = [(1, f'X{4*i}*X{4*i+1}+3*Z{4*i}*Z{4*i+1}+X{4*i+2}*X{4*i+3}+3*Z{4*i+2}*Z{4*i+3}') \n",
    "              for i in range(n_block)]\n",
    "Hpen = blocks2Mat(n_phys, Hpen_terms)\n",
    "P0, HpenInverse = get_P0_HpenInverse(Hpen)\n",
    "Uenc = getU(4, n_block)\n",
    "Penc = Uenc @ Uenc.conj().T\n",
    "\n",
    "Henc1_terms = []\n",
    "Henc1_terms += [(1, f'Z{4*i+1}*Z{4*i+2}+(-1)*X{4*i+1}*X{4*i+2}') # inner-block logical ZZ & XX\n",
    "               for i in range(n_block)]\n",
    "Henc1_terms += [(1.5, f'X{4*i}*X{4*i+1}') # compensate for residual terms from cross-block gadget\n",
    "                for i in range(n_block-1)]\n",
    "Henc1_terms += [(-3.5, f'Z{4*i+4}*Z{4*i+5}') # compensate for residual terms from cross-block gadget\n",
    "                for i in range(n_block-1)]\n",
    "Henc1 = blocks2Mat(n_phys, Henc1_terms)\n",
    "\n",
    "Henc2_terms = [(np.sqrt(8/3), f'Z{4*i+1}*X{4*i+6}+Z{4*i+3}*X{4*i+6}+3*Z{4*i+1}*X{4*i+4}')\n",
    "               for i in range(n_block-1)] # cross-block logical ZZ & XX\n",
    "Henc2 = blocks2Mat(n_phys, Henc2_terms)\n",
    "\n",
    "check(HpenInverse, P0, Penc, Uenc, Henc1, Henc2)\n"
   ]
  },
  {
   "cell_type": "markdown",
   "metadata": {},
   "source": [
    "# 2D TFIM"
   ]
  },
  {
   "cell_type": "code",
   "execution_count": 15,
   "metadata": {},
   "outputs": [
    {
     "name": "stdout",
     "output_type": "stream",
     "text": [
      "Check Henc2 is zero up to 1st order perturbation...\n",
      "Pass\n",
      "Check there is no zero-energy leakage...\n",
      "Pass\n",
      "Logical interaction:\n",
      "0.9999999999999993 * Z(4) @ Z(5)\n",
      "+ 0.9999999999999994 * Z(3) @ Z(4)\n",
      "+ 0.9999999999999997 * Z(2) @ Z(5)\n",
      "+ 0.9999999999999996 * Z(2) @ Z(3)\n",
      "+ 0.9999999999999991 * Z(1) @ Z(2)\n",
      "+ 0.9999999999999994 * Z(0) @ Z(3)\n",
      "+ 0.9999999999999993 * Z(0) @ Z(1)\n"
     ]
    }
   ],
   "source": [
    "n_row = 3 # number of rows of blocks\n",
    "n_col = 1 # number of columns of blocks\n",
    "\n",
    "def idx(c, r, i):\n",
    "    \"\"\"\n",
    "    Return the index of the physical qubit at the `i`-th position of the block located \n",
    "    at column `c` and row `r`.\n",
    "    `c`, `r`, and the returned index all start from 0.\n",
    "    `i` takes value from {1,2,3,4}.\n",
    "    \"\"\"\n",
    "    assert 0 <= c and c < n_col\n",
    "    assert 0 <= r and r < n_row\n",
    "    assert 1 <= i and i <= 4\n",
    "    return c * n_row * 4 + r * 4 + i - 1\n",
    "\n",
    "n_block = n_row * n_col\n",
    "n_phys = 4 * n_block\n",
    "dim_phys = 2 ** n_phys\n",
    "\n",
    "gx_flavors = [1, 2, 3]\n",
    "gz_flavors = [4, 5, 6]\n",
    "\n",
    "Hpen_terms = []\n",
    "for c in range(n_col):\n",
    "    for r in range(n_row):\n",
    "        gx, gz = gx_flavors[r % 3], gz_flavors[r % 3]\n",
    "        Hpen_terms += [(gx, f'X{idx(c, r, 1)}*X{idx(c, r, 2)}'), (gz, f'Z{idx(c, r, 1)}*Z{idx(c, r, 2)}'),\n",
    "                       (gx, f'X{idx(c, r, 3)}*X{idx(c, r, 4)}'), (gz, f'Z{idx(c, r, 3)}*Z{idx(c, r, 4)}')]\n",
    "Hpen = blocks2Mat(n_phys, Hpen_terms)\n",
    "P0, HpenInverse = get_P0_HpenInverse(Hpen)\n",
    "Uenc = getU(4, n_block)\n",
    "Penc = Uenc @ Uenc.conj().T\n",
    "\n",
    "Henc1_terms = []\n",
    "for c in range(n_col):\n",
    "    for r in range(n_row):\n",
    "        Henc1_terms += [(1, f'Z{idx(c, r, 2)}*Z{idx(c, r, 3)}')]\n",
    "Henc2_terms = []\n",
    "for c in range(n_col):\n",
    "    for r in range(n_row):\n",
    "        if r < n_row - 1: # vertical cross-block interactions\n",
    "            gx, gz = gx_flavors[(r+1) % 3], gz_flavors[r % 3]\n",
    "            alpha = np.sqrt((gz ** 2 - gx ** 2) / gz)\n",
    "            Henc2_terms += [(alpha, f'X{idx(c, r, 3)}*Z{idx(c, r+1, 2)}'), (alpha, f'X{idx(c, r, 3)}*Z{idx(c, r+1, 4)}')]\n",
    "            Henc1_terms += [(1, f'Z{idx(c, r, 1)}*Z{idx(c, r, 2)}')]\n",
    "\n",
    "            gx, gz = gx_flavors[r % 3], gz_flavors[(r+1) % 3]\n",
    "            alpha = np.sqrt((gz ** 2 - gx ** 2) / gz)\n",
    "            Henc2_terms += [(alpha, f'Z{idx(c, r, 2)}*X{idx(c, r+1, 3)}'), (alpha, f'Z{idx(c, r, 4)}*X{idx(c, r+1, 3)}')]\n",
    "            Henc1_terms += [(1, f'Z{idx(c, r+1, 1)}*Z{idx(c, r+1, 2)}')]\n",
    "        if c < n_col - 1: # horizontal cross-block interactions\n",
    "            gx, gz = gx_flavors[r % 3], gz_flavors[r % 3]\n",
    "            alpha = np.sqrt((gz ** 2 - gx ** 2) / gz)\n",
    "            if r % 2 == 0:\n",
    "                Henc2_terms += [(alpha, f'Z{idx(c, r, 2)}*X{idx(c+1, r, 3)}'), (alpha, f'Z{idx(c, r, 4)}*X{idx(c+1, r, 3)}')]\n",
    "                Henc1_terms += [(1, f'Z{idx(c+1, r, 1)}*Z{idx(c+1, r, 2)}')]\n",
    "            else:\n",
    "                Henc2_terms += [(alpha, f'X{idx(c, r, 3)}*Z{idx(c+1, r, 2)}'), (alpha, f'X{idx(c, r, 3)}*Z{idx(c+1, r, 4)}')]\n",
    "                Henc1_terms += [(1, f'Z{idx(c, r, 1)}*Z{idx(c, r, 2)}')]\n",
    "\n",
    "Henc1 = blocks2Mat(n_phys, Henc1_terms)\n",
    "Henc2 = blocks2Mat(n_phys, Henc2_terms)\n",
    "check(HpenInverse, P0, Penc, Uenc, Henc1, Henc2)"
   ]
  },
  {
   "cell_type": "code",
   "execution_count": null,
   "metadata": {},
   "outputs": [],
   "source": []
  }
 ],
 "metadata": {
  "kernelspec": {
   "display_name": "xanadu",
   "language": "python",
   "name": "python3"
  },
  "language_info": {
   "codemirror_mode": {
    "name": "ipython",
    "version": 3
   },
   "file_extension": ".py",
   "mimetype": "text/x-python",
   "name": "python",
   "nbconvert_exporter": "python",
   "pygments_lexer": "ipython3",
   "version": "3.10.4"
  }
 },
 "nbformat": 4,
 "nbformat_minor": 2
}
