{
 "cells": [
  {
   "cell_type": "code",
   "execution_count": 1,
   "metadata": {},
   "outputs": [],
   "source": [
    "from Hamil_search import *\n",
    "from simulation import *\n",
    "import numpy as np\n",
    "import os\n",
    "import pennylane as qml"
   ]
  },
  {
   "cell_type": "code",
   "execution_count": 2,
   "metadata": {},
   "outputs": [],
   "source": [
    "def load_or_precompute(n_block):\n",
    "    gx, gz = 1, 3\n",
    "    if not os.path.exists(f\"Hpen_{n_block}blocks.npy\"):\n",
    "        n_phys = 4 * n_block\n",
    "        Hpen_terms = []\n",
    "        for i in range(n_block):\n",
    "            Hpen_terms += [(gx, f'X{4*i}*X{4*i+1}'), (gz, f'Z{4*i}*Z{4*i+1}'),\n",
    "                        (gx, f'X{4*i+2}*X{4*i+3}'), (gz, f'Z{4*i+2}*Z{4*i+3}')]\n",
    "        Hpen = blocks2Mat(n_phys, Hpen_terms)\n",
    "        P0, HpenInverse = get_P0_HpenInverse(Hpen)\n",
    "        Uenc = getU(4, n_block)\n",
    "        Penc = Uenc @ Uenc.conj().T\n",
    "        np.save(f'Hpen_{n_block}blocks', Hpen)\n",
    "        np.save(f'HpenInverse_{n_block}blocks', HpenInverse)\n",
    "        np.save(f'P0_{n_block}blocks', P0)\n",
    "        np.save(f'Uenc_{n_block}blocks', Uenc)\n",
    "        np.save(f'Penc_{n_block}blocks', Penc)\n",
    "    \n",
    "    Hpen = np.load(f'Hpen_{n_block}blocks.npy')\n",
    "    HpenInverse = np.load(f'HpenInverse_{n_block}blocks.npy')\n",
    "    P0 = np.load(f'P0_{n_block}blocks.npy')\n",
    "    Uenc = np.load(f'Uenc_{n_block}blocks.npy')\n",
    "    Penc = np.load(f'Penc_{n_block}blocks.npy')\n",
    "    \n",
    "    return Hpen, HpenInverse, P0, Uenc, Penc\n",
    "\n",
    "def test_leakage_and_get_logical_interaction(HpenInverse, P0, Penc, Uenc, Henc):\n",
    "    A = Henc @ HpenInverse @ Henc\n",
    "    off_diag = (P0 - Penc) @ A @ Penc\n",
    "    if checkSame(off_diag, np.zeros(off_diag.shape)):\n",
    "        print(\"no leakage\")\n",
    "    else:\n",
    "        print(\"yes leakage\")\n",
    "    Hlogi = - Uenc.conj().T @ A @ Uenc\n",
    "    return qml.pauli_decompose(Hlogi, hide_identity=True)\n",
    "    \n",
    "\n",
    "def get_P0_HpenInverse(Hpen):\n",
    "    \"\"\"\n",
    "    Make sure that the eigenvalues of Hpen are all integers\n",
    "    \"\"\"\n",
    "    e, u = np.linalg.eigh(Hpen)\n",
    "\n",
    "    a = np.array([1 if abs(x) < 0.5 else 0 for x in e])\n",
    "    P0 = u @ (np.expand_dims(a, axis=1) * u.conj().T)\n",
    "\n",
    "    b = np.array([1/x if abs(x) > 0.5 else 0 for x in e])\n",
    "    HpenInverse = u @ (np.expand_dims(b, axis=1) * u.conj().T)\n",
    "\n",
    "    return P0, HpenInverse\n"
   ]
  },
  {
   "cell_type": "markdown",
   "metadata": {},
   "source": [
    "# 2D TFIM"
   ]
  },
  {
   "cell_type": "code",
   "execution_count": 5,
   "metadata": {},
   "outputs": [
    {
     "name": "stdout",
     "output_type": "stream",
     "text": [
      "no leakage\n"
     ]
    },
    {
     "data": {
      "text/plain": [
       "(\n",
       "    -0.3749999999999998 * Z(4)\n",
       "  + 0.3749999999999998 * (Z(3) @ Z(4))\n",
       "  + -0.3749999999999998 * Z(2)\n",
       "  + 0.37499999999999983 * (Z(1) @ Z(2))\n",
       ")"
      ]
     },
     "execution_count": 5,
     "metadata": {},
     "output_type": "execute_result"
    }
   ],
   "source": [
    "n_row = 1 # number of rows of blocks\n",
    "n_col = 3 # number of columns of blocks\n",
    "\n",
    "def idx(c, r, i):\n",
    "    \"\"\"\n",
    "    Return the index of the physical qubit at the `i`-th position of the block located \n",
    "    at column `c` and row `r`.\n",
    "    `c`, `r`, and the returned index all start from 0.\n",
    "    `i` takes value from {1,2,3,4}.\n",
    "    \"\"\"\n",
    "    assert 0 <= c and c < n_col\n",
    "    assert 0 <= r and r < n_row\n",
    "    assert 1 <= i and i <= 4\n",
    "    return c * n_row * 4 + r * 4 + i - 1\n",
    "\n",
    "n_block = n_row * n_col\n",
    "n_phys = 4 * n_block\n",
    "dim_phys = 2 ** n_phys\n",
    "\n",
    "gx_flavors = [1, -1, 2]\n",
    "gz_flavors = [3, -3, 4]\n",
    "\n",
    "Hpen_terms = []\n",
    "for c in range(n_col):\n",
    "    for r in range(n_row):\n",
    "        gx, gz = gx_flavors[r % 3], gz_flavors[r % 3]\n",
    "        Hpen_terms += [(gx, f'X{idx(c, r, 1)}*X{idx(c, r, 2)}'), (gz, f'Z{idx(c, r, 1)}*Z{idx(c, r, 2)}'),\n",
    "                       (gx, f'X{idx(c, r, 3)}*X{idx(c, r, 4)}'), (gz, f'Z{idx(c, r, 3)}*Z{idx(c, r, 4)}')]\n",
    "Hpen = blocks2Mat(n_phys, Hpen_terms)\n",
    "P0, HpenInverse = get_P0_HpenInverse(Hpen)\n",
    "Uenc = getU(4, n_block)\n",
    "Penc = Uenc @ Uenc.conj().T\n",
    "\n",
    "Henc_terms = []\n",
    "for c in range(n_col):\n",
    "    for r in range(n_row):\n",
    "        if r < n_row - 1: # vertical cross-block interactions\n",
    "            Henc_terms += [(1, f'X{idx(c, r, 3)}*Z{idx(c, r+1, 2)}'), (1, f'X{idx(c, r, 3)}*Z{idx(c, r+1, 4)}')]\n",
    "            Henc_terms += [(1, f'Z{idx(c, r, 2)}*X{idx(c, r+1, 3)}'), (1, f'Z{idx(c, r, 4)}*X{idx(c, r+1, 3)}')]\n",
    "        if c < n_col - 1: # horizontal cross-block interactions\n",
    "            if r % 2 == 0:\n",
    "                Henc_terms += [(1, f'Z{idx(c, r, 2)}*X{idx(c+1, r, 3)}'), (1, f'Z{idx(c, r, 4)}*X{idx(c+1, r, 3)}')]\n",
    "            else:\n",
    "                Henc_terms += [(1, f'X{idx(c, r, 3)}*Z{idx(c+1, r, 2)}'), (1, f'X{idx(c, r, 3)}*Z{idx(c+1, r, 4)}')]\n",
    "\n",
    "Henc = blocks2Mat(n_phys, Henc_terms)\n",
    "test_leakage_and_get_logical_interaction(HpenInverse, P0, Penc, Uenc, Henc)"
   ]
  },
  {
   "cell_type": "markdown",
   "metadata": {},
   "source": [
    "# Other"
   ]
  },
  {
   "cell_type": "code",
   "execution_count": 5,
   "metadata": {},
   "outputs": [
    {
     "name": "stdout",
     "output_type": "stream",
     "text": [
      "no leakage\n"
     ]
    },
    {
     "data": {
      "text/plain": [
       "(\n",
       "    -0.5714285714285714 * Z(2)\n",
       "  + -0.5714285714285714 * (X(0) @ Z(2))\n",
       ")"
      ]
     },
     "execution_count": 5,
     "metadata": {},
     "output_type": "execute_result"
    }
   ],
   "source": [
    "n_block = 2\n",
    "n_phys = 4 * n_block\n",
    "dim_phys = 2 ** n_phys\n",
    "\n",
    "gx = [1, 2]\n",
    "gz = [3, 4]\n",
    "\n",
    "Hpen_terms = [(gx[0], 'X0*X1'), (gz[0], 'Z0*Z1'), (gx[0], 'X2*X3'), (gz[0], 'Z2*Z3'),\n",
    "              (gx[1], 'X4*X5'), (gz[1], 'Z4*Z5'), (gx[1], 'X6*X7'), (gz[1], 'Z6*Z7')]\n",
    "Hpen = blocks2Mat(n_phys, Hpen_terms)\n",
    "P0, HpenInverse = get_P0_HpenInverse(Hpen)\n",
    "Uenc = getU(4, n_block)\n",
    "Penc = Uenc @ Uenc.conj().T\n",
    "\n",
    "Henc_terms = [(1, 'X1*X6'), (1, 'X3*X6')]\n",
    "\n",
    "Henc = blocks2Mat(n_phys, Henc_terms)\n",
    "test_leakage_and_get_logical_interaction(HpenInverse, P0, Penc, Uenc, Henc)"
   ]
  },
  {
   "cell_type": "code",
   "execution_count": 8,
   "metadata": {},
   "outputs": [
    {
     "name": "stdout",
     "output_type": "stream",
     "text": [
      "4.2896980535343984e-16\n",
      "no leakage\n"
     ]
    },
    {
     "data": {
      "text/plain": [
       "(\n",
       "    -0.3749999999999998 * Z(2)\n",
       "  + 0.3749999999999998 * (Z(1) @ Z(2))\n",
       ")"
      ]
     },
     "execution_count": 8,
     "metadata": {},
     "output_type": "execute_result"
    }
   ],
   "source": [
    "n_block = 2\n",
    "n_phys = 4 * n_block\n",
    "dim_phys = 2 ** n_phys\n",
    "\n",
    "Hpen_terms = [(1, 'X0*X1'), (3, 'Z0*Z1'), (1, 'X2*X3'), (3, 'Z2*Z3'),\n",
    "              (1, 'X4*X5'), (3, 'Z4*Z5'), (1, 'X6*X7'), (3, 'Z6*Z7')]\n",
    "Hpen = blocks2Mat(n_phys, Hpen_terms)\n",
    "P0, HpenInverse = get_P0_HpenInverse(Hpen)\n",
    "Uenc = getU(4, n_block)\n",
    "Penc = Uenc @ Uenc.conj().T\n",
    "\n",
    "Henc_terms = [(1, 'Z1*X6'), (1, 'Z3*X6')]\n",
    "\n",
    "Henc = blocks2Mat(n_phys, Henc_terms)\n",
    "\n",
    "print(np.linalg.norm(P0 @ Henc @ HpenInverse @ Henc @ HpenInverse @ Henc @ Penc, ord=2))\n",
    "test_leakage_and_get_logical_interaction(HpenInverse, P0, Penc, Uenc, Henc)"
   ]
  },
  {
   "cell_type": "code",
   "execution_count": 9,
   "metadata": {},
   "outputs": [
    {
     "name": "stdout",
     "output_type": "stream",
     "text": [
      "1.7261700700314458e-15\n",
      "no leakage\n"
     ]
    },
    {
     "data": {
      "text/plain": [
       "(\n",
       "    -0.3749999999999998 * Z(4)\n",
       "  + 0.3749999999999998 * (Z(3) @ Z(4))\n",
       "  + -0.3749999999999998 * Z(2)\n",
       "  + 0.37499999999999983 * (Z(1) @ Z(2))\n",
       ")"
      ]
     },
     "execution_count": 9,
     "metadata": {},
     "output_type": "execute_result"
    }
   ],
   "source": [
    "n_block = 3\n",
    "n_phys = 4 * n_block\n",
    "dim_phys = 2 ** n_phys\n",
    "\n",
    "Hpen_terms = [(1, 'X0*X1'), (3, 'Z0*Z1'), (1, 'X2*X3'), (3, 'Z2*Z3'),\n",
    "              (1, 'X4*X5'), (3, 'Z4*Z5'), (1, 'X6*X7'), (3, 'Z6*Z7'),\n",
    "              (1, 'X8*X9'), (3, 'Z8*Z9'), (1, 'X10*X11'), (3, 'Z10*Z11')]\n",
    "Hpen = blocks2Mat(n_phys, Hpen_terms)\n",
    "P0, HpenInverse = get_P0_HpenInverse(Hpen)\n",
    "Uenc = getU(4, n_block)\n",
    "Penc = Uenc @ Uenc.conj().T\n",
    "\n",
    "Henc_terms = [(1, 'Z1*X6'), (1, 'Z3*X6'),\n",
    "              (1, 'Z5*X10'), (1, 'Z7*X10')]\n",
    "\n",
    "Henc = blocks2Mat(n_phys, Henc_terms)\n",
    "\n",
    "print(np.linalg.norm(P0 @ Henc @ HpenInverse @ Henc @ HpenInverse @ Henc @ Penc, ord=2))\n",
    "test_leakage_and_get_logical_interaction(HpenInverse, P0, Penc, Uenc, Henc)"
   ]
  },
  {
   "cell_type": "code",
   "execution_count": 11,
   "metadata": {},
   "outputs": [
    {
     "name": "stdout",
     "output_type": "stream",
     "text": [
      "2.2244932225005978e-15\n"
     ]
    }
   ],
   "source": [
    "print(np.linalg.norm(P0 @ Henc @ HpenInverse @ Henc @ HpenInverse @ Henc @ P0, ord=2))"
   ]
  },
  {
   "cell_type": "code",
   "execution_count": null,
   "metadata": {},
   "outputs": [],
   "source": []
  }
 ],
 "metadata": {
  "kernelspec": {
   "display_name": "py310",
   "language": "python",
   "name": "python3"
  },
  "language_info": {
   "codemirror_mode": {
    "name": "ipython",
    "version": 3
   },
   "file_extension": ".py",
   "mimetype": "text/x-python",
   "name": "python",
   "nbconvert_exporter": "python",
   "pygments_lexer": "ipython3",
   "version": "3.10.12"
  }
 },
 "nbformat": 4,
 "nbformat_minor": 2
}
