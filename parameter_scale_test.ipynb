{
 "cells": [
  {
   "attachments": {},
   "cell_type": "markdown",
   "metadata": {},
   "source": [
    "# Scaling Test of penalty coefficent ([4.2.2] code)\n",
    "1. The penalty Hamiltonain: \n",
    "$$H_{pen} = (X_0X_2+gZ_0Z_2)+(X_2X_3+gZ_2Z_3)$$\n",
    "\n",
    "2. The target Hamiltonian:\n",
    "$$H_{tar} = \\sum_i X_i +\\sum_i Z_i + X_0X_1+Z_0Z_1$$\n",
    "\n",
    "3. Logical operators:\n",
    "$$\\bar{Z_0} = Z_0Z_1, \\bar{Z_1} = Z_0Z_2, \\bar{X_0} = -X_0X_2, \\bar{X_1} = X_0X_1$$\n",
    "$$\\bar{Z_0Z_1} = Z_1Z_2, \\bar{X_0X_1} = -X_1X_2$$\n",
    "\n",
    "4. The simulated Hamiltonain:\n",
    "$$H_{sim} = (-X_0X_2+X_0X_1+Z_0Z_1+Z_0Z_2+Z_1Z_2-X_1X_2) + \\lambda H_{pen}$$"
   ]
  },
  {
   "cell_type": "code",
   "execution_count": 1,
   "metadata": {},
   "outputs": [],
   "source": [
    "import numpy as np\n",
    "import matplotlib.pyplot as plt\n",
    "\n",
    "from scipy.sparse.linalg import expm_multiply, expm, norm\n",
    "from scipy.sparse import diags, eye\n",
    "from utils import *\n",
    "from os.path import join"
   ]
  },
  {
   "cell_type": "code",
   "execution_count": 2,
   "metadata": {},
   "outputs": [],
   "source": [
    "## target hamiltonian\n",
    "k = 2 # number of logical qubits\n",
    "matrix = np.zeros((k, k))\n",
    "np.fill_diagonal(matrix[:, 1:], 1)\n",
    "X1X2 = sum_J_xx(k,matrix).toarray()\n",
    "Z1Z2 = sum_J_zz(k,matrix).toarray()\n",
    "H_tar = sum_x(k).toarray()+sum_z(k).toarray()+X1X2+Z1Z2"
   ]
  },
  {
   "cell_type": "code",
   "execution_count": 3,
   "metadata": {},
   "outputs": [],
   "source": [
    "## simulated hamiltonain\n",
    "n = 4 # number of physical qubits\n",
    "matrix = np.zeros((n,n))\n",
    "matrix[0,2] = -1\n",
    "matrix[0,1] = 1\n",
    "matrix[1,2] = -1\n",
    "simX = sum_J_xx(n,matrix).toarray()\n",
    "matriz = np.zeros((n,n))\n",
    "matriz[0,1] = 1\n",
    "matriz[0,2] = 1\n",
    "matriz[1,2] = 1\n",
    "simZ = sum_J_zz(n,matriz).toarray()\n",
    "H_enc = simX+simZ"
   ]
  },
  {
   "cell_type": "code",
   "execution_count": 4,
   "metadata": {},
   "outputs": [],
   "source": [
    "## penalty Hamiltonian\n",
    "g = 3\n",
    "matriz = np.zeros((n,n))\n",
    "matriz[0,1] = 1\n",
    "matriz[2,3] = 1\n",
    "simX = sum_J_xx(n,matriz).toarray()\n",
    "matriz = np.zeros((n,n))\n",
    "matriz[0,1] = g\n",
    "matriz[2,3] = g\n",
    "simZ = sum_J_zz(n,matriz).toarray()\n",
    "H_pen = simX+simZ"
   ]
  },
  {
   "cell_type": "code",
   "execution_count": 5,
   "metadata": {},
   "outputs": [],
   "source": [
    "def ket2Vec(n, kets):\n",
    "    vec = np.zeros((2**n, 1))\n",
    "    for ket in kets:\n",
    "        sign = 1\n",
    "        res = None\n",
    "        if ket[0]=='-':\n",
    "            sign=-1\n",
    "            res =ket[1:]\n",
    "        else:\n",
    "            res = ket\n",
    "        index = int(res, base=2)\n",
    "        vec[index, 0] = sign\n",
    "    return vec"
   ]
  },
  {
   "cell_type": "code",
   "execution_count": 6,
   "metadata": {},
   "outputs": [],
   "source": [
    "Pstr1 = [['0001', '-1110']]\n",
    "Pstr2 = [['-0010', '1101']]\n",
    "Pstr3 = [['-0111', '1000']]\n",
    "Pstr4 = [['0100', '-1011']]\n",
    "Pstrs = [Pstr1, Pstr2, Pstr3, Pstr4]\n",
    "Ps = [ket2Vec(n, p[0])/ np.sqrt(2) for p in Pstrs]"
   ]
  },
  {
   "cell_type": "code",
   "execution_count": 7,
   "metadata": {},
   "outputs": [],
   "source": [
    "def dagger(v):\n",
    "    return np.conj(v).T "
   ]
  },
  {
   "cell_type": "code",
   "execution_count": 8,
   "metadata": {},
   "outputs": [],
   "source": [
    "P = np.zeros((2**n,2**n))\n",
    "for i in range(len(Ps)):\n",
    "    v = Ps[i]\n",
    "    P += v @ dagger(v)\n",
    "\n",
    "# P = np.zeros((2**n, 2**n))\n",
    "# for i in range(len(Ps)):\n",
    "#     for j in range(len(Ps)):\n",
    "#         P += np.kron(Ps[i], Ps[j])"
   ]
  },
  {
   "cell_type": "code",
   "execution_count": 12,
   "metadata": {},
   "outputs": [],
   "source": [
    "LHS = P@H_enc@dagger(P)"
   ]
  },
  {
   "cell_type": "code",
   "execution_count": 13,
   "metadata": {},
   "outputs": [],
   "source": [
    "U = (np.array(Ps).reshape(4,16)).T"
   ]
  },
  {
   "cell_type": "code",
   "execution_count": 14,
   "metadata": {},
   "outputs": [],
   "source": [
    "RHS = U@H_tar@dagger(U)"
   ]
  },
  {
   "cell_type": "code",
   "execution_count": 15,
   "metadata": {},
   "outputs": [
    {
     "data": {
      "text/plain": [
       "1.2362920382602608e-15"
      ]
     },
     "execution_count": 15,
     "metadata": {},
     "output_type": "execute_result"
    }
   ],
   "source": [
    "np.linalg.norm(LHS-RHS)"
   ]
  },
  {
   "cell_type": "code",
   "execution_count": 17,
   "metadata": {},
   "outputs": [],
   "source": [
    "def Z(num,position):\n",
    "    # for i in range(num):\n",
    "        if position == 0:\n",
    "            initial = PAULI_Z.toarray()\n",
    "            for j in range(1,num):\n",
    "                initial = np.kron(initial,np.eye(2))\n",
    "        else:\n",
    "            initial = np.eye(2)\n",
    "            for j in range(1,num):\n",
    "                if position == j:\n",
    "                    initial = np.kron(initial, PAULI_Z.toarray())\n",
    "                else:\n",
    "                    initial = np.kron(initial,np.eye(2))\n",
    "        return initial"
   ]
  },
  {
   "cell_type": "code",
   "execution_count": 21,
   "metadata": {},
   "outputs": [],
   "source": [
    "def X(num,position):\n",
    "    # for i in range(num):\n",
    "        if position == 0:\n",
    "            initial = PAULI_X.toarray()\n",
    "            for j in range(1,num):\n",
    "                initial = np.kron(initial,np.eye(2))\n",
    "        else:\n",
    "            initial = np.eye(2)\n",
    "            for j in range(1,num):\n",
    "                if position == j:\n",
    "                    initial = np.kron(initial, PAULI_X.toarray())\n",
    "                else:\n",
    "                    initial = np.kron(initial,np.eye(2))\n",
    "        return initial"
   ]
  },
  {
   "cell_type": "code",
   "execution_count": 48,
   "metadata": {},
   "outputs": [],
   "source": [
    "## fixing t and testing on lambda\n",
    "def error(lam,t):\n",
    "    err_rate = 1\n",
    "    rate_x = np.array(np.random.uniform(low=-1, high=1, size=n))\n",
    "    rate_z = np.array(np.random.uniform(low=-1, high=1, size=n))\n",
    "    V = sum_h_x(n,rate_x).toarray()+sum_h_z(n,rate_z).toarray()\n",
    "    H_sim = H_enc+lam *H_pen\n",
    "    LHS = expm(-1j*(H_sim+V)*t)@P\n",
    "    RHS = expm(-1j*(U@H_tar@dagger(U))*t)@P\n",
    "    return np.linalg.norm(LHS-RHS,ord=2)"
   ]
  },
  {
   "cell_type": "code",
   "execution_count": 49,
   "metadata": {},
   "outputs": [],
   "source": [
    "t = 1\n",
    "lst_lam = [2**i for i in range(10)]  \n",
    "y = []\n",
    "for i in lst_lam:\n",
    "    y.append(error(i,t))\n",
    "    "
   ]
  },
  {
   "cell_type": "code",
   "execution_count": 50,
   "metadata": {},
   "outputs": [
    {
     "data": {
      "text/plain": [
       "[<matplotlib.lines.Line2D at 0x2835e4650>]"
      ]
     },
     "execution_count": 50,
     "metadata": {},
     "output_type": "execute_result"
    },
    {
     "data": {
      "image/png": "[encoded data removed]",
      "text/plain": [
       "<Figure size 640x480 with 1 Axes>"
      ]
     },
     "metadata": {},
     "output_type": "display_data"
    }
   ],
   "source": [
    "plt.plot(np.log2(lst_lam),np.log2(y))"
   ]
  },
  {
   "cell_type": "code",
   "execution_count": 65,
   "metadata": {},
   "outputs": [],
   "source": [
    "def error_t(lam,ts,num_points):\n",
    "    output = []\n",
    "    rate_x = np.array(np.ones(n))\n",
    "    rate_z = np.array(np.ones(n))\n",
    "    V = sum_h_x(n,rate_x).toarray()+sum_h_z(n,rate_z).toarray()\n",
    "    H_sim = H_enc+lam *H_pen\n",
    "    LHS = [expm(-1j*(H_sim+V)*t)@P for t in np.linspace(0, ts, num_points)]\n",
    "    RHS = [expm(-1j*(U@H_tar@dagger(U))*t)@P for t in np.linspace(0, ts, num_points)]\n",
    "    for i in range(len(LHS)):\n",
    "        output.append(np.linalg.norm(LHS[i]-RHS[i],ord=2))\n",
    "    return output"
   ]
  },
  {
   "cell_type": "code",
   "execution_count": 68,
   "metadata": {},
   "outputs": [
    {
     "data": {
      "text/plain": [
       "[<matplotlib.lines.Line2D at 0x283b7d150>]"
      ]
     },
     "execution_count": 68,
     "metadata": {},
     "output_type": "execute_result"
    },
    {
     "data": {
      "image/png": "[encoded data removed]",
      "text/plain": [
       "<Figure size 640x480 with 1 Axes>"
      ]
     },
     "metadata": {},
     "output_type": "display_data"
    }
   ],
   "source": [
    "lam = 8\n",
    "ts = 10\n",
    "\n",
    "num_points = 100\n",
    "x = np.linspace(0, ts, num_points)\n",
    "y = error_t(lam,ts,num_points)\n",
    "\n",
    "plt.plot(x,y)\n"
   ]
  },
  {
   "cell_type": "markdown",
   "metadata": {},
   "source": []
  }
 ],
 "metadata": {
  "kernelspec": {
   "display_name": "Python 3",
   "language": "python",
   "name": "python3"
  },
  "language_info": {
   "codemirror_mode": {
    "name": "ipython",
    "version": 3
   },
   "file_extension": ".py",
   "mimetype": "text/x-python",
   "name": "python",
   "nbconvert_exporter": "python",
   "pygments_lexer": "ipython3",
   "version": "3.11.2"
  },
  "orig_nbformat": 4,
  "vscode": {
   "interpreter": {
    "hash": "aee8b7b246df8f9039afb4144a1f6fd8d2ca17a180786b69acc140d282b71a49"
   }
  }
 },
 "nbformat": 4,
 "nbformat_minor": 2
}
