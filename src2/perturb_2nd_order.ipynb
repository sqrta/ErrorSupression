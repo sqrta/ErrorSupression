{
 "cells": [
  {
   "cell_type": "code",
   "execution_count": 1,
   "metadata": {},
   "outputs": [],
   "source": [
    "from Hamil_search import *\n",
    "from simulation import *\n",
    "import numpy as np\n",
    "import os\n",
    "import pennylane as qml"
   ]
  },
  {
   "cell_type": "code",
   "execution_count": 2,
   "metadata": {},
   "outputs": [],
   "source": [
    "def load_or_precompute(n_block):\n",
    "    gx, gz = 1, 3\n",
    "    if not os.path.exists(f\"Hpen_{n_block}blocks.npy\"):\n",
    "        n_phys = 4 * n_block\n",
    "        Hpen_terms = []\n",
    "        for i in range(n_block):\n",
    "            Hpen_terms += [(gx, f'X{4*i}*X{4*i+1}'), (gz, f'Z{4*i}*Z{4*i+1}'),\n",
    "                        (gx, f'X{4*i+2}*X{4*i+3}'), (gz, f'Z{4*i+2}*Z{4*i+3}')]\n",
    "        Hpen = blocks2Mat(n_phys, Hpen_terms)\n",
    "        P0, HpenInverse = get_P0_HpenInverse(Hpen)\n",
    "        Uenc = getU(4, n_block)\n",
    "        Penc = Uenc @ Uenc.conj().T\n",
    "        np.save(f'Hpen_{n_block}blocks', Hpen)\n",
    "        np.save(f'HpenInverse_{n_block}blocks', HpenInverse)\n",
    "        np.save(f'P0_{n_block}blocks', P0)\n",
    "        np.save(f'Uenc_{n_block}blocks', Uenc)\n",
    "        np.save(f'Penc_{n_block}blocks', Penc)\n",
    "    \n",
    "    Hpen = np.load(f'Hpen_{n_block}blocks.npy')\n",
    "    HpenInverse = np.load(f'HpenInverse_{n_block}blocks.npy')\n",
    "    P0 = np.load(f'P0_{n_block}blocks.npy')\n",
    "    Uenc = np.load(f'Uenc_{n_block}blocks.npy')\n",
    "    Penc = np.load(f'Penc_{n_block}blocks.npy')\n",
    "    \n",
    "    return Hpen, HpenInverse, P0, Uenc, Penc\n",
    "\n",
    "def test_leakage_and_get_logical_interaction(HpenInverse, P0, Penc, Uenc, Henc):\n",
    "    A = Henc @ HpenInverse @ Henc\n",
    "    off_diag = (P0 - Penc) @ A @ Penc\n",
    "    if checkSame(off_diag, np.zeros(off_diag.shape)):\n",
    "        print(\"no leakage\")\n",
    "    else:\n",
    "        print(\"yes leakage\")\n",
    "    Hlogi = - Uenc.conj().T @ A @ Uenc\n",
    "    return qml.pauli_decompose(Hlogi)\n",
    "    \n",
    "\n",
    "def get_P0_HpenInverse(Hpen):\n",
    "    \"\"\"\n",
    "    Make sure that the eigenvalues of Hpen are all integers\n",
    "    \"\"\"\n",
    "    e, u = np.linalg.eigh(Hpen)\n",
    "\n",
    "    a = np.array([1 if abs(x) < 0.5 else 0 for x in e])\n",
    "    P0 = u @ (np.expand_dims(a, axis=1) * u.conj().T)\n",
    "\n",
    "    b = np.array([1/x if abs(x) > 0.5 else 0 for x in e])\n",
    "    HpenInverse = u @ (np.expand_dims(b, axis=1) * u.conj().T)\n",
    "\n",
    "    return P0, HpenInverse\n"
   ]
  },
  {
   "cell_type": "code",
   "execution_count": 3,
   "metadata": {},
   "outputs": [],
   "source": [
    "n_block = 2\n",
    "n_phys = 4 * n_block\n",
    "dim_phys = 2 ** n_phys\n",
    "\n",
    "Hpen_terms = [(1, 'X0*X1'), (3, 'Z0*Z1'), (1, 'X2*X3'), (3, 'Z2*Z3'),\n",
    "              (1, 'X4*X5'), (3, 'Z4*Z5'), (1, 'X6*X7'), (3, 'Z6*Z7')]\n",
    "Hpen = blocks2Mat(n_phys, Hpen_terms)\n",
    "P0, HpenInverse = get_P0_HpenInverse(Hpen)\n",
    "Uenc = getU(4, n_block)\n",
    "Penc = Uenc @ Uenc.conj().T"
   ]
  },
  {
   "cell_type": "code",
   "execution_count": 4,
   "metadata": {},
   "outputs": [
    {
     "name": "stdout",
     "output_type": "stream",
     "text": [
      "no leakage\n"
     ]
    },
    {
     "data": {
      "text/plain": [
       "(\n",
       "    0.12499999999999994 * (I(0) @ X(1) @ I(2) @ I(3))\n",
       "  + 0.12499999999999994 * (I(0) @ X(1) @ X(2) @ I(3))\n",
       ")"
      ]
     },
     "execution_count": 4,
     "metadata": {},
     "output_type": "execute_result"
    }
   ],
   "source": [
    "Henc_terms = [(1, 'Z3*X4'), (-1, 'Z3*X6')]\n",
    "Henc = blocks2Mat(n_phys, Henc_terms)\n",
    "\n",
    "test_leakage_and_get_logical_interaction(HpenInverse, P0, Penc, Uenc, Henc)"
   ]
  },
  {
   "cell_type": "code",
   "execution_count": null,
   "metadata": {},
   "outputs": [],
   "source": []
  }
 ],
 "metadata": {
  "kernelspec": {
   "display_name": "qutip",
   "language": "python",
   "name": "python3"
  },
  "language_info": {
   "codemirror_mode": {
    "name": "ipython",
    "version": 3
   },
   "file_extension": ".py",
   "mimetype": "text/x-python",
   "name": "python",
   "nbconvert_exporter": "python",
   "pygments_lexer": "ipython3",
   "version": "3.10.4"
  }
 },
 "nbformat": 4,
 "nbformat_minor": 2
}
