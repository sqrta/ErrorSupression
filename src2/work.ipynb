{
 "cells": [
  {
   "cell_type": "code",
   "execution_count": 1,
   "metadata": {},
   "outputs": [],
   "source": [
    "from Hamil_search import *\n",
    "from qiskit.quantum_info import SparsePauliOp, Statevector\n",
    "from scipy.sparse.linalg import eigsh, LinearOperator\n",
    "from scipy import linalg as LA"
   ]
  },
  {
   "cell_type": "code",
   "execution_count": null,
   "metadata": {},
   "outputs": [
    {
     "name": "stdout",
     "output_type": "stream",
     "text": [
      "[['X0*X1', '-1*X2*X3'], ['Z2*Z3', '-1*Z4*Z5'], ['X4*X5', '-1*X6*X7'], ['Z6*Z7', '-1*Z0*Z1']]\n",
      "16\n"
     ]
    }
   ],
   "source": [
    "n = 8\n",
    "config = {\"target\": 0, \"distance\": 2, \"depth\": 1, \"thres\": 0}\n",
    "p = {0: \"X\", 1: \"Z\", 2: \"Y\"}\n",
    "m = n // 2\n",
    "res = []\n",
    "for i in range(m):\n",
    "    dex = p[i % 2]\n",
    "    if m % 2 == 1 and i == m - 1:\n",
    "        dex = \"Y\"\n",
    "    res.append([f\"{dex}{i*2}*{dex}{i*2+1}\", f\"-1*{dex}{(i*2+2)%n}*{dex}{(i*2+3)%n}\"])\n",
    "print(res)\n",
    "\n",
    "Ml = [sum([pauliExpr2Mat(n, x) for x in xl]) for xl in res]\n",
    "eff = [2, 3, 4, 8]\n",
    "Hm = sum([eff[i] * Ml[i] for i in range(m)])\n",
    "space = getSpace(n, Hm, config)\n",
    "\n",
    "print(space.shape[1])"
   ]
  },
  {
   "cell_type": "code",
   "execution_count": 2,
   "metadata": {},
   "outputs": [
    {
     "name": "stdout",
     "output_type": "stream",
     "text": [
      "SparsePauliOp(['IIX'],\n",
      "              coeffs=[1.+0.j])\n",
      "[0 1 2 3 4 5 6 7]\n",
      "[1. 0. 3. 2. 5. 4. 7. 6.]\n",
      "[0.+0.j 1.+0.j 2.+0.j 3.+0.j 4.+0.j 5.+0.j 6.+0.j 7.+0.j]\n",
      "[1.+0.j 0.+0.j 3.+0.j 2.+0.j 5.+0.j 4.+0.j 7.+0.j 6.+0.j]\n"
     ]
    }
   ],
   "source": [
    "n = 3\n",
    "H = pauliStr2mat(n, \"X2\")\n",
    "Ht = SparsePauliOp([\"IIX\"], np.array([1]))\n",
    "# print(H)\n",
    "\n",
    "v = np.array(list(range(2**n)))\n",
    "print(v)\n",
    "print(H @ v)\n",
    "vp = v.reshape((2, 2, 2))\n",
    "state = Statevector(v)\n",
    "print(state.data)\n",
    "state = state.evolve(Ht)\n",
    "print(state.data)"
   ]
  },
  {
   "cell_type": "code",
   "execution_count": 9,
   "metadata": {},
   "outputs": [],
   "source": [
    "n = 9\n",
    "\n",
    "\n",
    "def getXMapper(index):\n",
    "    result = []\n",
    "    for i in range(2**n):\n",
    "        result.append(i ^ 2 ** (n - index - 1))\n",
    "    return result\n",
    "\n",
    "\n",
    "Xmapper = [getXMapper(i) for i in range(n)]\n",
    "\n",
    "\n",
    "def applyX(v, index):\n",
    "    return v[Xmapper[index]]\n",
    "\n",
    "\n",
    "def applyZ(vInput, index):\n",
    "    v = np.copy(vInput)\n",
    "    shift = n - index - 1\n",
    "    for i in range(2**n):\n",
    "        if (i >> shift) % 2 == 1:\n",
    "            v[i] = -v[i]\n",
    "    return v\n",
    "\n",
    "\n",
    "def pauli2QiskitStr(terms, num_qubit):\n",
    "    result = [\"I\" for _ in range(num_qubit)]\n",
    "    for t in terms:\n",
    "        result[t[1]] = t[0]\n",
    "    return \"\".join(result)\n",
    "\n",
    "\n",
    "def Hstr2QiskitPauliOp(Hstr, num_qubit):\n",
    "    result = []\n",
    "    effs = []\n",
    "    for term in Hstr:\n",
    "        eff, paulis = splitPaulis(term)\n",
    "        effs.append(eff)\n",
    "        result.append(pauli2QiskitStr(paulis, num_qubit))\n",
    "    return SparsePauliOp(result, np.array(effs))\n",
    "\n",
    "\n",
    "def applyH(H, num_qubit, v):\n",
    "    state = Statevector(v)\n",
    "    state = state.evolve(H)\n",
    "    return state.data\n",
    "\n",
    "\n",
    "def applyHo(Hstr, v, inverse=False):\n",
    "    result = np.zeros(2**n)\n",
    "    for term in Hstr:\n",
    "        vcopy = np.copy(v)\n",
    "        eff, paulis = splitPaulis(term)\n",
    "        if inverse:\n",
    "            paulis = paulis[-1::-1]\n",
    "        for p in paulis:\n",
    "            if p[0] == \"X\":\n",
    "                vcopy = applyX(vcopy, p[1])\n",
    "            if p[0] == \"Z\":\n",
    "                vcopy = applyZ(vcopy, p[1])\n",
    "        result += eff * vcopy\n",
    "    return result"
   ]
  },
  {
   "cell_type": "code",
   "execution_count": null,
   "metadata": {},
   "outputs": [],
   "source": [
    "Mtype = np.float64\n",
    "v = np.array(list(range(2**n)))\n",
    "H = [\n",
    "    \"Z0*Z3\",\n",
    "    \"X6*X7\",\n",
    "    \"X1*X2\",\n",
    "    \"Z5*Z8\",\n",
    "    \"-4*I0\",\n",
    "    \"1*X3*X4\",\n",
    "    \"-1*X0*X1\",\n",
    "    \"1*Z4*Z5\",\n",
    "    \"-1*Z1*Z2\",\n",
    "    \"1*Z6*Z7\",\n",
    "    \"-1*Z3*Z4\",\n",
    "    \"1*X7*X8\",\n",
    "    \"-1*X4*X5\",\n",
    "]\n",
    "\n",
    "H1 = [\n",
    "    \"Z0*Z1\",\n",
    "    \"Z2*Z3\",\n",
    "    \"X4*X8\",\n",
    "    \"X7*X11\",\n",
    "    \"Z12*Z13\",\n",
    "    \"Z14*Z15\",\n",
    "    \"-6*I0\",\n",
    "    \"X0*X1\",\n",
    "    \"-1*X4*X5\",\n",
    "    \"Z1*Z2\",\n",
    "    \"-1*Z5*Z6\",\n",
    "    \"X2*X3\",\n",
    "    \"-1*X6*X7\",\n",
    "    \"Z4*Z5\",\n",
    "    \"-1*Z8*Z9\",\n",
    "    \"X5*X6\",\n",
    "    \"-1*X9*X10\",\n",
    "    \"Z6*Z7\",\n",
    "    \"-1*Z10*Z11\",\n",
    "    \"X8*X9\",\n",
    "    \"-1*X12*X13\",\n",
    "    \"Z9*Z10\",\n",
    "    \"-1*Z13*Z14\",\n",
    "    \"X10*X11\",\n",
    "    \"-1*X14*X15\",\n",
    "]\n",
    "\n",
    "# HP = Hstr2QiskitPauliOp(H, n)\n",
    "# HM = sum([pauliExpr2Mat(n, s) for s in H])\n",
    "# vp = applyH(HP, n, applyH(HP.transpose(), n, v))\n",
    "# vm = HM @ HM.T @ v\n",
    "# print(vp - vm)"
   ]
  },
  {
   "cell_type": "code",
   "execution_count": 11,
   "metadata": {},
   "outputs": [
    {
     "name": "stdout",
     "output_type": "stream",
     "text": [
      "[146.35760392 168.68602475 168.68602475]\n",
      "9\n"
     ]
    }
   ],
   "source": [
    "# Hlar = LinearOperator(\n",
    "#     shape=(2**n, 2**n),\n",
    "#     matvec=lambda v: applyH(HP, n, applyH(HP.transpose(), n, v)),\n",
    "#     dtype=Mtype,\n",
    "# )\n",
    "\n",
    "Hlar = LinearOperator(\n",
    "    shape=(2**n, 2**n),\n",
    "    matvec=lambda v: applyHo(H, applyHo(H, v, inverse=True)),\n",
    "    dtype=Mtype,\n",
    ")\n",
    "w, ev = eigsh(Hlar, 3, which=\"LM\")\n",
    "w.sort()\n",
    "print(w)\n",
    "print(n)\n",
    "shift = w[-1]"
   ]
  },
  {
   "cell_type": "code",
   "execution_count": null,
   "metadata": {},
   "outputs": [],
   "source": [
    "kets = [\n",
    "    \"000000000\",\n",
    "    \"000000110\",\n",
    "    \"011000000\",\n",
    "    \"011000110\",\n",
    "    \"110110000\",\n",
    "    \"110110110\",\n",
    "    \"101110000\",\n",
    "    \"101110110\",\n",
    "    \"000011011\",\n",
    "    \"000011101\",\n",
    "    \"011011011\",\n",
    "    \"011011101\",\n",
    "    \"110101011\",\n",
    "    \"110101101\",\n",
    "    \"101101011\",\n",
    "    \"101101101\",\n",
    "]\n",
    "v0 = ket2Vec(n, kets) / (len(kets)) ** 0.5"
   ]
  },
  {
   "cell_type": "code",
   "execution_count": null,
   "metadata": {},
   "outputs": [
    {
     "name": "stdout",
     "output_type": "stream",
     "text": [
      "shift is 168.6860247513159\n",
      "[-9.94759830e-13  2.27373675e-13  9.57162442e-03]\n"
     ]
    }
   ],
   "source": [
    "# H = [\"-1*Z0*X1\", \"Z1*X2\"]\n",
    "\n",
    "print(f\"shift is {shift}\")\n",
    "# HM = sum([pauliExpr2Mat(n, s) for s in H])\n",
    "# I = np.identity(HM.shape[0])\n",
    "# Hs = HM @ HM.T - shift * I\n",
    "# HL = LinearOperator(shape=HM.shape, matvec=lambda v: Hs @ v, dtype=HM.dtype)\n",
    "HLT = LinearOperator(\n",
    "    shape=(2**n, 2**n),\n",
    "    matvec=lambda v: applyHo(H, applyHo(H, v, inverse=True)) - shift * v,\n",
    "    dtype=Mtype,\n",
    ")\n",
    "\n",
    "\n",
    "w, ev = eigsh(HLT, 3, which=\"LM\", maxiter=10000, v0=v0)\n",
    "\n",
    "\n",
    "print(w + shift)"
   ]
  },
  {
   "cell_type": "code",
   "execution_count": 38,
   "metadata": {},
   "outputs": [
    {
     "data": {
      "text/plain": [
       "1"
      ]
     },
     "execution_count": 38,
     "metadata": {},
     "output_type": "execute_result"
    }
   ],
   "source": [
    "7 >> 2"
   ]
  }
 ],
 "metadata": {
  "kernelspec": {
   "display_name": "py310",
   "language": "python",
   "name": "python3"
  },
  "language_info": {
   "codemirror_mode": {
    "name": "ipython",
    "version": 3
   },
   "file_extension": ".py",
   "mimetype": "text/x-python",
   "name": "python",
   "nbconvert_exporter": "python",
   "pygments_lexer": "ipython3",
   "version": "3.10.12"
  }
 },
 "nbformat": 4,
 "nbformat_minor": 2
}
