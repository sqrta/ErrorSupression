{
 "cells": [
  {
   "cell_type": "code",
   "execution_count": 1,
   "metadata": {},
   "outputs": [],
   "source": [
    "from Hamil_search import *\n",
    "from simulation import *\n",
    "import numpy as np\n",
    "import os.path\n",
    "import pennylane as qml"
   ]
  },
  {
   "cell_type": "code",
   "execution_count": 2,
   "metadata": {},
   "outputs": [],
   "source": [
    "gx, gz = 1, 3"
   ]
  },
  {
   "cell_type": "code",
   "execution_count": 3,
   "metadata": {},
   "outputs": [],
   "source": [
    "def load_or_precompute(n_block):\n",
    "    if not os.path.exists(f\"Hpen_{n_block}blocks.npy\"):\n",
    "        n_phys = 4 * n_block\n",
    "        Hpen_terms = []\n",
    "        for i in range(n_block):\n",
    "            Hpen_terms += [(gx, f'X{4*i}*X{4*i+1}'), (gz, f'Z{4*i}*Z{4*i+1}'),\n",
    "                        (gx, f'X{4*i+2}*X{4*i+3}'), (gz, f'Z{4*i+2}*Z{4*i+3}')]\n",
    "        Hpen = blocks2Mat(n_phys, Hpen_terms)\n",
    "        HpenInverse = np.linalg.pinv(Hpen)\n",
    "        Q0 = HpenInverse @ Hpen\n",
    "        P0 = np.identity(2 ** n_phys) - Q0\n",
    "        Uenc = getU(4, n_block)\n",
    "        Penc = Uenc @ Uenc.conj().T\n",
    "        np.save(f'Hpen_{n_block}blocks', Hpen)\n",
    "        np.save(f'HpenInverse_{n_block}blocks', HpenInverse)\n",
    "        np.save(f'Q0_{n_block}blocks', Q0)\n",
    "        np.save(f'P0_{n_block}blocks', P0)\n",
    "        np.save(f'Uenc_{n_block}blocks', Uenc)\n",
    "        np.save(f'Penc_{n_block}blocks', Penc)\n",
    "    \n",
    "    Hpen = np.load(f'Hpen_{n_block}blocks.npy')\n",
    "    HpenInverse = np.load(f'HpenInverse_{n_block}blocks.npy')\n",
    "    Q0 = np.load(f'Q0_{n_block}blocks.npy')\n",
    "    P0 = np.load(f'P0_{n_block}blocks.npy')\n",
    "    Uenc = np.load(f'Uenc_{n_block}blocks.npy')\n",
    "    Penc = np.load(f'Penc_{n_block}blocks.npy')\n",
    "    \n",
    "    return Hpen, HpenInverse, Q0, P0, Uenc, Penc\n",
    "\n",
    "def test_leakage(HpenInverse, P0, Penc, A):\n",
    "    off_diag = (P0 - Penc) @ A @ HpenInverse @ A @ Penc\n",
    "    if checkSame(off_diag, np.zeros(A.shape)):\n",
    "        print(\"no leakage\")\n",
    "    else:\n",
    "        print(\"yes leakage\")\n",
    "\n",
    "def get_logical_interaction(HpenInverse, Uenc, Henc):\n",
    "    Hlogi = - Uenc.conj().T @ Henc @ HpenInverse @ Henc @ Uenc\n",
    "    return qml.pauli_decompose(Hlogi)\n"
   ]
  },
  {
   "cell_type": "code",
   "execution_count": 43,
   "metadata": {},
   "outputs": [
    {
     "name": "stdout",
     "output_type": "stream",
     "text": [
      "False\n",
      "yes leakage\n"
     ]
    },
    {
     "data": {
      "text/plain": [
       "(\n",
       "    0.12499999999999993 * (I(0) @ I(1) @ I(2) @ X(3))\n",
       "  + -0.3749999999999998 * (I(0) @ I(1) @ Z(2) @ I(3))\n",
       "  + 0.3749999999999998 * (I(0) @ Z(1) @ Z(2) @ I(3))\n",
       "  + 0.1249999999999999 * (X(0) @ I(1) @ I(2) @ X(3))\n",
       ")"
      ]
     },
     "execution_count": 43,
     "metadata": {},
     "output_type": "execute_result"
    }
   ],
   "source": [
    "lamb = 64\n",
    "n_block = 2\n",
    "n_phys = 4 * n_block\n",
    "n_logi = 2 * n_block\n",
    "dim_phys = 2 ** n_phys\n",
    "dim_logi = 2 ** n_logi\n",
    "\n",
    "Hpen, HpenInverse, Q0, P0, Uenc, Penc = load_or_precompute(n_block)\n",
    "\n",
    "A_terms = [(1, 'Z1*X6')]\n",
    "A = blocks2Mat(n_phys, A_terms)\n",
    "\n",
    "B_terms = [(1, 'Z3*X6')]\n",
    "B = blocks2Mat(n_phys, B_terms)\n",
    "\n",
    "C_terms = [(1, 'X1*Z6')]\n",
    "C = blocks2Mat(n_phys, C_terms)\n",
    "\n",
    "D_terms = [(1, 'X3*Z6')]\n",
    "D = blocks2Mat(n_phys, D_terms)\n",
    "\n",
    "print(checkSame(P0 @ B @ HpenInverse @ A @ P0 + P0 @ A @ HpenInverse @ B @ P0,\n",
    "                np.zeros((dim_phys, dim_phys))))\n",
    "Henc = A+B+C+D\n",
    "test_leakage(HpenInverse, P0, Penc, Henc)\n",
    "get_logical_interaction(HpenInverse, Uenc, Henc)\n"
   ]
  },
  {
   "cell_type": "code",
   "execution_count": 51,
   "metadata": {},
   "outputs": [
    {
     "name": "stdout",
     "output_type": "stream",
     "text": [
      "no leakage\n"
     ]
    },
    {
     "data": {
      "text/plain": [
       "(\n",
       "    -1.4999999999999993 * (I(0) @ I(1) @ Z(2) @ I(3))\n",
       "  + -1.4999999999999996 * (I(0) @ X(1) @ I(2) @ I(3))\n",
       "  + 1.4999999999999996 * (I(0) @ X(1) @ X(2) @ I(3))\n",
       "  + 1.4999999999999993 * (I(0) @ Z(1) @ Z(2) @ I(3))\n",
       ")"
      ]
     },
     "execution_count": 51,
     "metadata": {},
     "output_type": "execute_result"
    }
   ],
   "source": [
    "lamb = 64\n",
    "n_block = 2\n",
    "n_phys = 4 * n_block\n",
    "n_logi = 2 * n_block\n",
    "dim_phys = 2 ** n_phys\n",
    "dim_logi = 2 ** n_logi\n",
    "\n",
    "Hpen, HpenInverse, Q0, P0, Uenc, Penc = load_or_precompute(n_block)\n",
    "\n",
    "Henc_terms = [(1, 'Z1*X6'), (1, 'Z3*X6'), (3, 'Z1*X4'), (3, 'Z1*X6')]\n",
    "Henc = blocks2Mat(n_phys, Henc_terms)\n",
    "\n",
    "test_leakage(HpenInverse, P0, Penc, Henc)\n",
    "get_logical_interaction(HpenInverse, Uenc, Henc)\n"
   ]
  },
  {
   "cell_type": "code",
   "execution_count": null,
   "metadata": {},
   "outputs": [],
   "source": []
  },
  {
   "cell_type": "code",
   "execution_count": 4,
   "metadata": {},
   "outputs": [
    {
     "name": "stdout",
     "output_type": "stream",
     "text": [
      "no leakage\n"
     ]
    },
    {
     "data": {
      "text/plain": [
       "(\n",
       "    -0.17142857142857137 * (I(0) @ I(1) @ Z(2) @ I(3))\n",
       "  + 0.17142857142857137 * (I(0) @ Z(1) @ Z(2) @ I(3))\n",
       ")"
      ]
     },
     "execution_count": 4,
     "metadata": {},
     "output_type": "execute_result"
    }
   ],
   "source": [
    "n_block = 2\n",
    "n_phys = 4 * n_block\n",
    "\n",
    "Hpen_terms = [(1, 'X0*X1'), (3, 'Z0*Z1'), (1, 'X2*X3'), (3, 'Z2*Z3'),\n",
    "              (2, 'X4*X5'), (6, 'Z4*Z5'), (2, 'X6*X7'), (6, 'Z6*Z7')]\n",
    "Hpen = blocks2Mat(n_phys, Hpen_terms)\n",
    "HpenInverse = np.linalg.pinv(Hpen)\n",
    "Q0 = HpenInverse @ Hpen\n",
    "P0 = np.identity(2 ** n_phys) - Q0\n",
    "Uenc = getU(4, n_block)\n",
    "Penc = Uenc @ Uenc.conj().T\n",
    "\n",
    "\n",
    "Henc_terms = [(1, 'Z1*X6'), (1, 'Z3*X6')]\n",
    "Henc = blocks2Mat(n_phys, Henc_terms)\n",
    "\n",
    "test_leakage(HpenInverse, P0, Penc, Henc)\n",
    "get_logical_interaction(HpenInverse, Uenc, Henc)"
   ]
  },
  {
   "cell_type": "code",
   "execution_count": 5,
   "metadata": {},
   "outputs": [
    {
     "name": "stdout",
     "output_type": "stream",
     "text": [
      "yes leakage\n"
     ]
    }
   ],
   "source": [
    "n_block = 3\n",
    "n_phys = 4 * n_block\n",
    "\n",
    "Hpen_terms = [(1, 'X0*X1'), (3, 'Z0*Z1'), (1, 'X2*X3'), (3, 'Z2*Z3'), # block 0\n",
    "              (1, 'X4*X5'), (3, 'Z4*Z5'), (1, 'X6*X7'), (3, 'Z6*Z7'), # block 1\n",
    "              (1, 'X8*X9'), (3, 'Z8*Z9'), (1, 'X10*X11'), (3, 'Z10*Z11')] # block 2\n",
    "Hpen = blocks2Mat(n_phys, Hpen_terms)\n",
    "HpenInverse = np.linalg.pinv(Hpen)\n",
    "Q0 = HpenInverse @ Hpen\n",
    "P0 = np.identity(2 ** n_phys) - Q0\n",
    "Uenc = getU(4, n_block)\n",
    "Penc = Uenc @ Uenc.conj().T\n",
    "\n",
    "\n",
    "Henc_terms = [(1, 'Z1*X6'), (1, 'Z3*X6'),  # cross-block gadget between block 0 & block 1\n",
    "              (1, 'X9*Z6'), (1, 'X11*Z6')] # cross-block gadget between block 1 & block 2\n",
    "Henc = blocks2Mat(n_phys, Henc_terms)\n",
    "\n",
    "test_leakage(HpenInverse, P0, Penc, Henc)"
   ]
  },
  {
   "cell_type": "code",
   "execution_count": 6,
   "metadata": {},
   "outputs": [
    {
     "name": "stdout",
     "output_type": "stream",
     "text": [
      "no leakage\n"
     ]
    },
    {
     "data": {
      "text/plain": [
       "(\n",
       "    0.028571428571428623 * (I(0) @ I(1) @ I(2) @ X(3) @ I(4) @ I(5))\n",
       "  + 0.02857142857142862 * (I(0) @ I(1) @ I(2) @ X(3) @ X(4) @ I(5))\n",
       "  + -0.3749999999999999 * (I(0) @ I(1) @ Z(2) @ I(3) @ I(4) @ I(5))\n",
       "  + 0.3749999999999999 * (I(0) @ Z(1) @ Z(2) @ I(3) @ I(4) @ I(5))\n",
       ")"
      ]
     },
     "execution_count": 6,
     "metadata": {},
     "output_type": "execute_result"
    }
   ],
   "source": [
    "n_block = 3\n",
    "n_phys = 4 * n_block\n",
    "\n",
    "Hpen_terms = [(1, 'X0*X1'), (3, 'Z0*Z1'), (1, 'X2*X3'), (3, 'Z2*Z3'), # block 0\n",
    "              (1, 'X4*X5'), (3, 'Z4*Z5'), (1, 'X6*X7'), (3, 'Z6*Z7'), # block 1\n",
    "              (2, 'X8*X9'), (6, 'Z8*Z9'), (2, 'X10*X11'), (6, 'Z10*Z11')] # block 2\n",
    "Hpen = blocks2Mat(n_phys, Hpen_terms)\n",
    "HpenInverse = np.linalg.pinv(Hpen)\n",
    "Q0 = HpenInverse @ Hpen\n",
    "P0 = np.identity(2 ** n_phys) - Q0\n",
    "Uenc = getU(4, n_block)\n",
    "Penc = Uenc @ Uenc.conj().T\n",
    "\n",
    "\n",
    "Henc_terms = [(1, 'Z1*X6'), (1, 'Z3*X6'),  # cross-block gadget between block 0 & block 1: should yield logical ZZ\n",
    "              (1, 'X9*Z6'), (1, 'X11*Z6')] # cross-block gadget between block 1 & block 2: should yield logical XX\n",
    "Henc = blocks2Mat(n_phys, Henc_terms)\n",
    "\n",
    "test_leakage(HpenInverse, P0, Penc, Henc)\n",
    "get_logical_interaction(HpenInverse, Uenc, Henc)"
   ]
  },
  {
   "cell_type": "code",
   "execution_count": null,
   "metadata": {},
   "outputs": [],
   "source": []
  }
 ],
 "metadata": {
  "kernelspec": {
   "display_name": "qutip",
   "language": "python",
   "name": "python3"
  },
  "language_info": {
   "codemirror_mode": {
    "name": "ipython",
    "version": 3
   },
   "file_extension": ".py",
   "mimetype": "text/x-python",
   "name": "python",
   "nbconvert_exporter": "python",
   "pygments_lexer": "ipython3",
   "version": "3.10.4"
  }
 },
 "nbformat": 4,
 "nbformat_minor": 2
}
