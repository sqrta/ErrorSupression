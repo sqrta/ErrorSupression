{
 "cells": [
  {
   "cell_type": "code",
   "execution_count": 1,
   "id": "a646b66c",
   "metadata": {},
   "outputs": [],
   "source": [
    "from simulation import getHpen, getU, blocks2Mat\n",
    "import numpy as np\n",
    "import pennylane as qml\n",
    "from itertools import product\n",
    "from fractions import Fraction"
   ]
  },
  {
   "cell_type": "code",
   "execution_count": 2,
   "id": "c46a4abd",
   "metadata": {},
   "outputs": [],
   "source": [
    "# helper functions\n",
    "\n",
    "def get_P0_and_HpenInverse(Hpen):\n",
    "    \"\"\"\n",
    "    get `P0` (projector onto the nullspace of `Hpen`) and `HpenInverse` (pseudoinverse of `Hpen`).\n",
    "\n",
    "    Make sure that the eigenvalues of `Hpen` are all integers!\n",
    "    \"\"\"\n",
    "    e, u = np.linalg.eigh(Hpen)\n",
    "\n",
    "    a = np.array([1 if abs(x) < 0.5 else 0 for x in e])\n",
    "    P0 = u @ (np.expand_dims(a, axis=1) * u.conj().T)\n",
    "\n",
    "    b = np.array([1/x if abs(x) > 0.5 else 0 for x in e])\n",
    "    HpenInverse = u @ (np.expand_dims(b, axis=1) * u.conj().T)\n",
    "\n",
    "    return P0, HpenInverse"
   ]
  },
  {
   "cell_type": "markdown",
   "id": "163aebf6",
   "metadata": {},
   "source": [
    "# Inner-block logical operators"
   ]
  },
  {
   "cell_type": "code",
   "execution_count": 3,
   "id": "e784d328",
   "metadata": {},
   "outputs": [],
   "source": [
    "blocksize = 4\n",
    "n_block = 1\n",
    "n_phys = blocksize * n_block\n",
    "n_logi = n_phys // 2\n",
    "\n",
    "Hpen = getHpen(n_phys, n_block) # penalty hamiltonian\n",
    "P0, HpenInverse = get_P0_and_HpenInverse(Hpen) # projector onto the nullspace of Hpen, and pseudoinverse of Hpen\n",
    "U = getU(blocksize, n_block) # encoder isometry, i.e., the i-th column is the i-th logical basis state\n",
    "Udag = U.conj().T\n",
    "Penc = U @ Udag # projector onto the encoding subspace\n",
    "\n",
    "assert np.allclose(Hpen @ P0, 0)\n",
    "assert np.allclose(HpenInverse @ P0, 0)\n",
    "assert np.allclose(Hpen @ HpenInverse, np.eye(2**n_phys) - P0)\n",
    "assert np.allclose(Udag @ U, np.eye(2**n_logi))\n",
    "assert np.allclose(Penc, P0)\n"
   ]
  },
  {
   "cell_type": "code",
   "execution_count": 9,
   "id": "5352271a",
   "metadata": {},
   "outputs": [],
   "source": [
    "def check_inner_block_1st_order_logical_operator(Henc1, precision=5):\n",
    "    # check Henc1 is block diagonal w.r.t. P0 and I-P0\n",
    "    if not np.allclose((np.eye(2**n_phys) - P0) @ Henc1 @ P0, 0):\n",
    "        return \"Fail\", \"\"\n",
    "\n",
    "    # express logical operator in the logical pauli basis\n",
    "    Hlogi = Udag @ Henc1 @ U\n",
    "    Hlogi_decomposed = qml.pauli_decompose(Hlogi, hide_identity=True, pauli=True)\n",
    "    logi_expr = \"\"\n",
    "    for i, (term, coeff) in enumerate(Hlogi_decomposed.items()):\n",
    "        coeff = coeff.real\n",
    "        term = str(term).replace(\"@\", \"*\").replace(\" \", \"\").replace(\"(\", \"\").replace(\")\", \"\")\n",
    "        if coeff > 0 and i > 0:\n",
    "            logi_expr += \"+\"\n",
    "        logi_expr += f\"{coeff:.{precision}f}*{term}\"\n",
    "    return \"Pass\", logi_expr"
   ]
  },
  {
   "cell_type": "code",
   "execution_count": 11,
   "id": "f845c939",
   "metadata": {},
   "outputs": [
    {
     "name": "stdout",
     "output_type": "stream",
     "text": [
      "Checking a, b = X, X\n",
      "Checking a, b = X, Y\n",
      "Checking a, b = X, Z\n",
      "Checking a, b = Y, X\n",
      "Checking a, b = Y, Y\n",
      "Checking a, b = Y, Z\n",
      "Checking a, b = Z, X\n",
      "Checking a, b = Z, Y\n",
      "Checking a, b = Z, Z\n"
     ]
    }
   ],
   "source": [
    "paulis = [\"X\", \"Y\", \"Z\"]\n",
    "with open(\"enumerate_inner_block_1st_order_logical_ops.txt\", \"w\") as file:\n",
    "    file.write(\"Henc1 -> Htar\\n\")\n",
    "    for a, b in product(paulis, repeat=2):\n",
    "        print(f\"Checking a, b = {a}, {b}\")\n",
    "        for i in range(4):\n",
    "            for j in range(i+1, 4):\n",
    "                Henc1_expr = f'{a}{i}*{b}{j}'\n",
    "                Henc1 = blocks2Mat(n_phys, [(1, Henc1_expr)])\n",
    "                msg, logi_expr = check_inner_block_1st_order_logical_operator(Henc1)\n",
    "                if msg == \"Pass\":\n",
    "                    file.write(f\"{Henc1_expr} -> {logi_expr}\\n\")"
   ]
  },
  {
   "cell_type": "code",
   "execution_count": 20,
   "id": "24f6fc31",
   "metadata": {},
   "outputs": [],
   "source": [
    "def check_inner_block_2nd_order_logical_operator(Henc2, precision=5):\n",
    "    # check Henc2 is zero up to 1st order perturbation\n",
    "    if not np.allclose(P0 @ Henc2 @ P0, 0):\n",
    "        return \"Fail1\", \"\"\n",
    "\n",
    "    # express logical operator in the logical pauli basis\n",
    "    Hlogi = - Udag @ Henc2 @ HpenInverse @ Henc2 @ U\n",
    "    if np.allclose(Hlogi, 0):\n",
    "        return \"Fail2\", \"\"\n",
    "\n",
    "    Hlogi_decomposed = qml.pauli_decompose(Hlogi, hide_identity=True, pauli=True)\n",
    "    logi_expr = \"\"\n",
    "    for i, (term, coeff) in enumerate(Hlogi_decomposed.items()):\n",
    "        coeff = coeff.real\n",
    "        term = str(term).replace(\"@\", \"*\").replace(\" \", \"\").replace(\"(\", \"\").replace(\")\", \"\")\n",
    "        if coeff > 0 and i > 0:\n",
    "            logi_expr += \"+\"\n",
    "        logi_expr += f\"{coeff:.{precision}f}*{term}\"\n",
    "    return \"Pass\", logi_expr"
   ]
  },
  {
   "cell_type": "code",
   "execution_count": 21,
   "id": "e2ae3b2c",
   "metadata": {},
   "outputs": [
    {
     "name": "stdout",
     "output_type": "stream",
     "text": [
      "Checking a = X\n",
      "Checking a = Y\n",
      "Checking a = Z\n",
      "Checking a, b = X, X\n",
      "Checking a, b = X, Y\n",
      "Checking a, b = X, Z\n",
      "Checking a, b = Y, X\n",
      "Checking a, b = Y, Y\n",
      "Checking a, b = Y, Z\n",
      "Checking a, b = Z, X\n",
      "Checking a, b = Z, Y\n",
      "Checking a, b = Z, Z\n",
      "Checking a, b, c, d = X, X, X, X\n",
      "Checking a, b, c, d = X, X, X, Y\n",
      "Checking a, b, c, d = X, X, X, Z\n",
      "Checking a, b, c, d = X, X, Y, X\n",
      "Checking a, b, c, d = X, X, Y, Y\n",
      "Checking a, b, c, d = X, X, Y, Z\n",
      "Checking a, b, c, d = X, X, Z, X\n",
      "Checking a, b, c, d = X, X, Z, Y\n",
      "Checking a, b, c, d = X, X, Z, Z\n",
      "Checking a, b, c, d = X, Y, X, X\n",
      "Checking a, b, c, d = X, Y, X, Y\n",
      "Checking a, b, c, d = X, Y, X, Z\n",
      "Checking a, b, c, d = X, Y, Y, X\n",
      "Checking a, b, c, d = X, Y, Y, Y\n",
      "Checking a, b, c, d = X, Y, Y, Z\n",
      "Checking a, b, c, d = X, Y, Z, X\n",
      "Checking a, b, c, d = X, Y, Z, Y\n",
      "Checking a, b, c, d = X, Y, Z, Z\n",
      "Checking a, b, c, d = X, Z, X, X\n",
      "Checking a, b, c, d = X, Z, X, Y\n",
      "Checking a, b, c, d = X, Z, X, Z\n",
      "Checking a, b, c, d = X, Z, Y, X\n",
      "Checking a, b, c, d = X, Z, Y, Y\n",
      "Checking a, b, c, d = X, Z, Y, Z\n",
      "Checking a, b, c, d = X, Z, Z, X\n",
      "Checking a, b, c, d = X, Z, Z, Y\n",
      "Checking a, b, c, d = X, Z, Z, Z\n",
      "Checking a, b, c, d = Y, X, X, X\n",
      "Checking a, b, c, d = Y, X, X, Y\n",
      "Checking a, b, c, d = Y, X, X, Z\n",
      "Checking a, b, c, d = Y, X, Y, X\n",
      "Checking a, b, c, d = Y, X, Y, Y\n",
      "Checking a, b, c, d = Y, X, Y, Z\n",
      "Checking a, b, c, d = Y, X, Z, X\n",
      "Checking a, b, c, d = Y, X, Z, Y\n",
      "Checking a, b, c, d = Y, X, Z, Z\n",
      "Checking a, b, c, d = Y, Y, X, X\n",
      "Checking a, b, c, d = Y, Y, X, Y\n",
      "Checking a, b, c, d = Y, Y, X, Z\n",
      "Checking a, b, c, d = Y, Y, Y, X\n",
      "Checking a, b, c, d = Y, Y, Y, Y\n",
      "Checking a, b, c, d = Y, Y, Y, Z\n",
      "Checking a, b, c, d = Y, Y, Z, X\n",
      "Checking a, b, c, d = Y, Y, Z, Y\n",
      "Checking a, b, c, d = Y, Y, Z, Z\n",
      "Checking a, b, c, d = Y, Z, X, X\n",
      "Checking a, b, c, d = Y, Z, X, Y\n",
      "Checking a, b, c, d = Y, Z, X, Z\n",
      "Checking a, b, c, d = Y, Z, Y, X\n",
      "Checking a, b, c, d = Y, Z, Y, Y\n",
      "Checking a, b, c, d = Y, Z, Y, Z\n",
      "Checking a, b, c, d = Y, Z, Z, X\n",
      "Checking a, b, c, d = Y, Z, Z, Y\n",
      "Checking a, b, c, d = Y, Z, Z, Z\n",
      "Checking a, b, c, d = Z, X, X, X\n",
      "Checking a, b, c, d = Z, X, X, Y\n",
      "Checking a, b, c, d = Z, X, X, Z\n",
      "Checking a, b, c, d = Z, X, Y, X\n",
      "Checking a, b, c, d = Z, X, Y, Y\n",
      "Checking a, b, c, d = Z, X, Y, Z\n",
      "Checking a, b, c, d = Z, X, Z, X\n",
      "Checking a, b, c, d = Z, X, Z, Y\n",
      "Checking a, b, c, d = Z, X, Z, Z\n",
      "Checking a, b, c, d = Z, Y, X, X\n",
      "Checking a, b, c, d = Z, Y, X, Y\n",
      "Checking a, b, c, d = Z, Y, X, Z\n",
      "Checking a, b, c, d = Z, Y, Y, X\n",
      "Checking a, b, c, d = Z, Y, Y, Y\n",
      "Checking a, b, c, d = Z, Y, Y, Z\n",
      "Checking a, b, c, d = Z, Y, Z, X\n",
      "Checking a, b, c, d = Z, Y, Z, Y\n",
      "Checking a, b, c, d = Z, Y, Z, Z\n",
      "Checking a, b, c, d = Z, Z, X, X\n",
      "Checking a, b, c, d = Z, Z, X, Y\n",
      "Checking a, b, c, d = Z, Z, X, Z\n",
      "Checking a, b, c, d = Z, Z, Y, X\n",
      "Checking a, b, c, d = Z, Z, Y, Y\n",
      "Checking a, b, c, d = Z, Z, Y, Z\n",
      "Checking a, b, c, d = Z, Z, Z, X\n",
      "Checking a, b, c, d = Z, Z, Z, Y\n",
      "Checking a, b, c, d = Z, Z, Z, Z\n"
     ]
    }
   ],
   "source": [
    "paulis = [\"X\", \"Y\", \"Z\"]\n",
    "with open(\"enumerate_inner_block_2nd_order_logical_ops.txt\", \"w\") as file:\n",
    "    file.write(\"Henc2 -> Htar\\n\")\n",
    "    # search for single-qubit operators\n",
    "    for a in paulis:\n",
    "        print(f\"Checking a = {a}\")\n",
    "        for i in range(4):\n",
    "            Henc2_expr = f'{a}{i}'\n",
    "            Henc2 = blocks2Mat(n_phys, [(1, Henc2_expr)])\n",
    "            msg, logi_expr = check_inner_block_2nd_order_logical_operator(Henc2)\n",
    "            if msg == \"Pass\":\n",
    "                file.write(f\"{Henc2_expr} -> {logi_expr}\\n\")\n",
    "    # search for two-qubit operators\n",
    "    for a, b in product(paulis, repeat=2):\n",
    "        print(f\"Checking a, b = {a}, {b}\")\n",
    "        for i in range(4):\n",
    "            for j in range(i+1, 4):\n",
    "                Henc2_expr = f'{a}{i}*{b}{j}'\n",
    "                Henc2 = blocks2Mat(n_phys, [(1, Henc2_expr)])\n",
    "                msg, logi_expr = check_inner_block_2nd_order_logical_operator(Henc2)\n",
    "                if msg == \"Pass\":\n",
    "                    file.write(f\"{Henc2_expr} -> {logi_expr}\\n\")\n",
    "    # search for sum of two two-qubit operators\n",
    "    for a, b, c, d in product(paulis, repeat=4):\n",
    "        print(f\"Checking a, b, c, d = {a}, {b}, {c}, {d}\")\n",
    "        for i in range(4):\n",
    "            for j in range(i+1, 4):\n",
    "                for k in range(4):\n",
    "                    for l in range(k+1, 4):\n",
    "                        if i > k:\n",
    "                            continue\n",
    "                        if i == k and j > l:\n",
    "                            continue\n",
    "                        if i == k and j == l and a == c and b == d:\n",
    "                            continue\n",
    "                        Henc2_expr = f'{a}{i}*{b}{j}+{c}{k}*{d}{l}'\n",
    "                        Henc2 = blocks2Mat(n_phys, [(1, Henc2_expr)])\n",
    "                        msg, logi_expr = check_inner_block_2nd_order_logical_operator(Henc2)\n",
    "                        if msg == \"Pass\":\n",
    "                            file.write(f\"{Henc2_expr} -> {logi_expr}\\n\")"
   ]
  },
  {
   "cell_type": "markdown",
   "id": "1c0b46c8",
   "metadata": {},
   "source": [
    "# Cross-block logical operators"
   ]
  },
  {
   "cell_type": "code",
   "execution_count": 3,
   "id": "1c906771",
   "metadata": {},
   "outputs": [],
   "source": [
    "blocksize = 4\n",
    "n_block = 2\n",
    "n_phys = blocksize * n_block\n",
    "n_logi = n_phys // 2\n",
    "\n",
    "Hpen = getHpen(n_phys, n_block) # penalty hamiltonian\n",
    "P0, HpenInverse = get_P0_and_HpenInverse(Hpen) # projector onto the nullspace of Hpen, and pseudoinverse of Hpen\n",
    "U = getU(blocksize, n_block) # encoder isometry, i.e., the i-th column is the i-th logical basis state\n",
    "Udag = U.conj().T\n",
    "Penc = U @ Udag # projector onto the encoding subspace\n",
    "\n",
    "assert np.allclose(Hpen @ P0, 0)\n",
    "assert np.allclose(HpenInverse @ P0, 0)\n",
    "assert np.allclose(Hpen @ HpenInverse, np.eye(2**n_phys) - P0)\n",
    "assert np.allclose(Udag @ U, np.eye(2**n_logi))\n",
    "assert np.allclose(Penc @ P0, Penc)\n"
   ]
  },
  {
   "cell_type": "code",
   "execution_count": 4,
   "id": "deec7d92",
   "metadata": {},
   "outputs": [],
   "source": [
    "def check_logical_operator(Henc2, precision=5):\n",
    "    # check Henc2 is zero up to 1st order perturbation\n",
    "    if not np.allclose(P0 @ Henc2 @ P0, 0):\n",
    "        return \"Fail1\", \"\"\n",
    "    \n",
    "    A = - Henc2 @ HpenInverse @ Henc2\n",
    "    # Heff = P0 @ A @ P0 is the effective hamiltonian up to 2nd order\n",
    "\n",
    "    # check Heff is block diagonal w.r.t. Penc and P0-Penc\n",
    "    if not np.allclose((P0 - Penc) @ A @ Penc, 0):\n",
    "        return \"Fail2\", \"\"\n",
    "\n",
    "    # express logical operator in the logical pauli basis\n",
    "    Hlogi = Udag @ A @ U\n",
    "    Hlogi_decomposed = qml.pauli_decompose(Hlogi, hide_identity=True, pauli=True)\n",
    "    logi_expr = \"\"\n",
    "    for i, (term, coeff) in enumerate(Hlogi_decomposed.items()):\n",
    "        coeff = coeff.real\n",
    "        term = str(term).replace(\"@\", \"*\").replace(\" \", \"\").replace(\"(\", \"\").replace(\")\", \"\")\n",
    "        if coeff > 0 and i > 0:\n",
    "            logi_expr += \"+\"\n",
    "        logi_expr += f\"{coeff:.{precision}f}*{term}\"\n",
    "    return \"Pass\", logi_expr"
   ]
  },
  {
   "cell_type": "code",
   "execution_count": null,
   "id": "89b23525",
   "metadata": {},
   "outputs": [
    {
     "name": "stdout",
     "output_type": "stream",
     "text": [
      "Checking a, b = X, X\n",
      "Checking a, b = X, Y\n",
      "Checking a, b = X, Z\n",
      "Checking a, b = Y, X\n",
      "Checking a, b = Y, Y\n",
      "Checking a, b = Y, Z\n",
      "Checking a, b = Z, X\n",
      "Checking a, b = Z, Y\n",
      "Checking a, b = Z, Z\n"
     ]
    }
   ],
   "source": [
    "paulis = [\"X\", \"Y\", \"Z\"]\n",
    "with open(\"enumerate_cross_block_2nd_order_logical_ops.txt\", \"w\") as file:\n",
    "    for a, b in product(paulis, repeat=2):\n",
    "        print(f\"Checking a, b = {a}, {b}\")\n",
    "        for k in range(4, 8):\n",
    "            for i, j in [(0, 2), (0, 3), (1, 2), (1, 3)]:\n",
    "                Henc2_expr = f'{a}{i}*{b}{k}+{a}{j}*{b}{k}'\n",
    "                Henc2 = blocks2Mat(n_phys, [(1, Henc2_expr)])\n",
    "                msg, logi_expr = check_logical_operator(Henc2)\n",
    "                if msg == \"Pass\":\n",
    "                    file.write(f\"{Henc2_expr} -> {logi_expr}\\n\")\n",
    "    # for a, b, c in product(paulis, repeat=3):\n",
    "    #     print(f\"Checking a, b, c = {a}, {b}, {c}\")\n",
    "    #     for k in range(4, 8):\n",
    "    #         for l in range(k, 8):\n",
    "    #             for i, j in [(0, 2), (0, 3), (1, 2), (1, 3)]:\n",
    "    #                 Henc2_expr = f'{a}{i}*{b}{k}+{a}{j}*{b}{k}+{a}{i}*{c}{l}+{a}{j}*{c}{l}'\n",
    "    #                 Henc2 = blocks2Mat(n_phys, [(1, Henc2_expr)])\n",
    "    #                 msg, logi_expr = check_logical_operator(Henc2)\n",
    "    #                 if msg == \"Pass\":\n",
    "    #                     file.write(f\"{Henc2_expr} -> {logi_expr}\\n\")"
   ]
  },
  {
   "cell_type": "markdown",
   "id": "138a47e2",
   "metadata": {},
   "source": [
    "# Draft"
   ]
  },
  {
   "cell_type": "code",
   "execution_count": 6,
   "id": "fc581d34",
   "metadata": {},
   "outputs": [
    {
     "data": {
      "text/plain": [
       "('Pass',\n",
       " '0.485714285714285*X3+0.085714285714286*Z2-0.485714285714285*X0*X3-0.085714285714286*X0*Z2')"
      ]
     },
     "execution_count": 6,
     "metadata": {},
     "output_type": "execute_result"
    }
   ],
   "source": [
    "check_logical_operator(blocks2Mat(n_phys, [(1, \"X0*Y4+X2*Y4\")]), precision=15)"
   ]
  },
  {
   "cell_type": "code",
   "execution_count": 7,
   "id": "2d575de7",
   "metadata": {},
   "outputs": [
    {
     "data": {
      "text/plain": [
       "Fraction(17, 35)"
      ]
     },
     "execution_count": 7,
     "metadata": {},
     "output_type": "execute_result"
    }
   ],
   "source": [
    "Fraction(0.485714285714285).limit_denominator(1000)"
   ]
  },
  {
   "cell_type": "code",
   "execution_count": 8,
   "id": "d82b04fb",
   "metadata": {},
   "outputs": [
    {
     "data": {
      "text/plain": [
       "('Pass', '1.0000000000*Z2-1.0000000000*X0*Z2')"
      ]
     },
     "execution_count": 8,
     "metadata": {},
     "output_type": "execute_result"
    }
   ],
   "source": [
    "Henc2 = blocks2Mat(n_phys, [(np.sqrt(35/3), \"X0*Y4+X2*Y4\"), (np.sqrt(136/3), \"X0*Z4+X2*Z4\")])\n",
    "check_logical_operator(Henc2, precision=10)"
   ]
  }
 ],
 "metadata": {
  "kernelspec": {
   "display_name": ".env",
   "language": "python",
   "name": "python3"
  },
  "language_info": {
   "codemirror_mode": {
    "name": "ipython",
    "version": 3
   },
   "file_extension": ".py",
   "mimetype": "text/x-python",
   "name": "python",
   "nbconvert_exporter": "python",
   "pygments_lexer": "ipython3",
   "version": "3.10.6"
  }
 },
 "nbformat": 4,
 "nbformat_minor": 5
}
