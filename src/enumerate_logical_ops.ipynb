{
 "cells": [
  {
   "cell_type": "code",
   "execution_count": 1,
   "id": "a646b66c",
   "metadata": {},
   "outputs": [],
   "source": [
    "from simulation import getHpen, getU, blocks2Mat\n",
    "import numpy as np\n",
    "import pennylane as qml\n",
    "from itertools import product\n",
    "from fractions import Fraction"
   ]
  },
  {
   "cell_type": "code",
   "execution_count": 2,
   "id": "c46a4abd",
   "metadata": {},
   "outputs": [],
   "source": [
    "# helper functions\n",
    "\n",
    "def get_P0_and_HpenInverse(Hpen):\n",
    "    \"\"\"\n",
    "    get `P0` (projector onto the nullspace of `Hpen`) and `HpenInverse` (pseudoinverse of `Hpen`).\n",
    "\n",
    "    Make sure that the eigenvalues of `Hpen` are all integers!\n",
    "    \"\"\"\n",
    "    e, u = np.linalg.eigh(Hpen)\n",
    "\n",
    "    a = np.array([1 if abs(x) < 0.5 else 0 for x in e])\n",
    "    P0 = u @ (np.expand_dims(a, axis=1) * u.conj().T)\n",
    "\n",
    "    b = np.array([1/x if abs(x) > 0.5 else 0 for x in e])\n",
    "    HpenInverse = u @ (np.expand_dims(b, axis=1) * u.conj().T)\n",
    "\n",
    "    return P0, HpenInverse"
   ]
  },
  {
   "cell_type": "code",
   "execution_count": 3,
   "id": "1c906771",
   "metadata": {},
   "outputs": [],
   "source": [
    "blocksize = 4\n",
    "n_block = 2\n",
    "n_phys = blocksize * n_block\n",
    "n_logi = n_phys // 2\n",
    "\n",
    "Hpen = getHpen(n_phys, n_block) # penalty hamiltonian\n",
    "P0, HpenInverse = get_P0_and_HpenInverse(Hpen) # projector onto the nullspace of Hpen, and pseudoinverse of Hpen\n",
    "U = getU(blocksize, n_block) # encoder isometry, i.e., the i-th column is the i-th logical basis state\n",
    "Udag = U.conj().T\n",
    "Penc = U @ Udag # projector onto the encoding subspace\n",
    "\n",
    "assert np.allclose(Hpen @ P0, 0)\n",
    "assert np.allclose(HpenInverse @ P0, 0)\n",
    "assert np.allclose(Hpen @ HpenInverse, np.eye(2**n_phys) - P0)\n",
    "assert np.allclose(Udag @ U, np.eye(2**n_logi))\n",
    "assert np.allclose(Penc @ P0, Penc)\n"
   ]
  },
  {
   "cell_type": "code",
   "execution_count": 4,
   "id": "deec7d92",
   "metadata": {},
   "outputs": [],
   "source": [
    "def check_logical_operator(Henc2, precision=5):\n",
    "    # check Henc2 is zero up to 1st order perturbation\n",
    "    if not np.allclose(P0 @ Henc2 @ P0, 0):\n",
    "        return \"Fail1\", \"\"\n",
    "    \n",
    "    A = - Henc2 @ HpenInverse @ Henc2\n",
    "    # Heff = P0 @ A @ P0 is the effective hamiltonian up to 2nd order\n",
    "\n",
    "    # check Heff is block diagonal w.r.t. Penc and P0-Penc\n",
    "    if not np.allclose((P0 - Penc) @ A @ Penc, 0):\n",
    "        return \"Fail2\", \"\"\n",
    "\n",
    "    # express logical operator in the logical pauli basis\n",
    "    Hlogi = Udag @ A @ U\n",
    "    Hlogi_decomposed = qml.pauli_decompose(Hlogi, hide_identity=True, pauli=True)\n",
    "    logi_expr = \"\"\n",
    "    for i, (term, coeff) in enumerate(Hlogi_decomposed.items()):\n",
    "        coeff = coeff.real\n",
    "        term = str(term).replace(\"@\", \"*\").replace(\" \", \"\").replace(\"(\", \"\").replace(\")\", \"\")\n",
    "        if coeff > 0 and i > 0:\n",
    "            logi_expr += \"+\"\n",
    "        logi_expr += f\"{coeff:.{precision}f}*{term}\"\n",
    "    return \"Pass\", logi_expr"
   ]
  },
  {
   "cell_type": "code",
   "execution_count": 5,
   "id": "89b23525",
   "metadata": {},
   "outputs": [
    {
     "name": "stdout",
     "output_type": "stream",
     "text": [
      "Checking a, b = X, X\n",
      "Checking a, b = X, Y\n",
      "Checking a, b = X, Z\n",
      "Checking a, b = Y, X\n",
      "Checking a, b = Y, Y\n",
      "Checking a, b = Y, Z\n",
      "Checking a, b = Z, X\n",
      "Checking a, b = Z, Y\n",
      "Checking a, b = Z, Z\n"
     ]
    }
   ],
   "source": [
    "paulis = [\"X\", \"Y\", \"Z\"]\n",
    "with open(\"enumerate_logical_ops.txt\", \"w\") as file:\n",
    "    for a, b in product(paulis, repeat=2):\n",
    "        print(f\"Checking a, b = {a}, {b}\")\n",
    "        for k in range(4, 8):\n",
    "            for i, j in [(0, 2), (0, 3), (1, 2), (1, 3)]:\n",
    "                Henc2_expr = f'{a}{i}*{b}{k}+{a}{j}*{b}{k}'\n",
    "                Henc2 = blocks2Mat(n_phys, [(1, Henc2_expr)])\n",
    "                msg, logi_expr = check_logical_operator(Henc2)\n",
    "                if msg == \"Pass\":\n",
    "                    file.write(f\"{Henc2_expr} -> {logi_expr}\\n\")\n",
    "    # for a, b, c in product(paulis, repeat=3):\n",
    "    #     print(f\"Checking a, b, c = {a}, {b}, {c}\")\n",
    "    #     for k in range(4, 8):\n",
    "    #         for l in range(k, 8):\n",
    "    #             for i, j in [(0, 2), (0, 3), (1, 2), (1, 3)]:\n",
    "    #                 Henc2_expr = f'{a}{i}*{b}{k}+{a}{j}*{b}{k}+{a}{i}*{c}{l}+{a}{j}*{c}{l}'\n",
    "    #                 Henc2 = blocks2Mat(n_phys, [(1, Henc2_expr)])\n",
    "    #                 msg, logi_expr = check_logical_operator(Henc2)\n",
    "    #                 if msg == \"Pass\":\n",
    "    #                     file.write(f\"{Henc2_expr} -> {logi_expr}\\n\")"
   ]
  },
  {
   "cell_type": "markdown",
   "id": "138a47e2",
   "metadata": {},
   "source": [
    "# Draft"
   ]
  },
  {
   "cell_type": "code",
   "execution_count": 6,
   "id": "fc581d34",
   "metadata": {},
   "outputs": [
    {
     "data": {
      "text/plain": [
       "('Pass',\n",
       " '0.485714285714285*X3+0.085714285714286*Z2-0.485714285714285*X0*X3-0.085714285714286*X0*Z2')"
      ]
     },
     "execution_count": 6,
     "metadata": {},
     "output_type": "execute_result"
    }
   ],
   "source": [
    "check_logical_operator(blocks2Mat(n_phys, [(1, \"X0*Y4+X2*Y4\")]), precision=15)"
   ]
  },
  {
   "cell_type": "code",
   "execution_count": 7,
   "id": "2d575de7",
   "metadata": {},
   "outputs": [
    {
     "data": {
      "text/plain": [
       "Fraction(17, 35)"
      ]
     },
     "execution_count": 7,
     "metadata": {},
     "output_type": "execute_result"
    }
   ],
   "source": [
    "Fraction(0.485714285714285).limit_denominator(1000)"
   ]
  },
  {
   "cell_type": "code",
   "execution_count": 8,
   "id": "d82b04fb",
   "metadata": {},
   "outputs": [
    {
     "data": {
      "text/plain": [
       "('Pass', '1.0000000000*Z2-1.0000000000*X0*Z2')"
      ]
     },
     "execution_count": 8,
     "metadata": {},
     "output_type": "execute_result"
    }
   ],
   "source": [
    "Henc2 = blocks2Mat(n_phys, [(np.sqrt(35/3), \"X0*Y4+X2*Y4\"), (np.sqrt(136/3), \"X0*Z4+X2*Z4\")])\n",
    "check_logical_operator(Henc2, precision=10)"
   ]
  }
 ],
 "metadata": {
  "kernelspec": {
   "display_name": ".env",
   "language": "python",
   "name": "python3"
  },
  "language_info": {
   "codemirror_mode": {
    "name": "ipython",
    "version": 3
   },
   "file_extension": ".py",
   "mimetype": "text/x-python",
   "name": "python",
   "nbconvert_exporter": "python",
   "pygments_lexer": "ipython3",
   "version": "3.10.6"
  }
 },
 "nbformat": 4,
 "nbformat_minor": 5
}
