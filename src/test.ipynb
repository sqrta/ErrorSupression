{
 "cells": [
  {
   "cell_type": "code",
   "execution_count": 1,
   "metadata": {},
   "outputs": [],
   "source": [
    "from Hamil_search import *\n",
    "from simulation import *\n",
    "import time\n",
    "import numpy as np\n",
    "from numba import jit"
   ]
  },
  {
   "cell_type": "code",
   "execution_count": 13,
   "metadata": {},
   "outputs": [
    {
     "name": "stdout",
     "output_type": "stream",
     "text": [
      "[(1, 'Z0*Z1'), (1, 'Z0'), (1, 'Z1'), (1, 'X0'), (1, 'X1'), (1, 'Z2*Z3'), (1, 'Z2'), (1, 'Z3'), (1, 'X2'), (1, 'X3'), (1, 'Z1*Z2')]\n",
      "[(1, 'Z1*Z2'), (1, 'Z0*Z1'), (1, 'Z0*Z2'), (-1, 'X0*X2'), (1, 'X0*X1'), (1, 'Z5*Z6'), (1, 'Z4*Z5'), (1, 'Z4*Z6'), (-1, 'X4*X6'), (1, 'X4*X5'), (1, 'Z4*Z5'), (52.255781179374466, 'Z1*X6+Z3*X6')]\n",
      "True\n",
      "True\n",
      "True\n"
     ]
    }
   ],
   "source": [
    "lambdaPen = 1024\n",
    "blockNum = 2\n",
    "n = 4\n",
    "size = n*blockNum\n",
    "\n",
    "Hpen_block = []\n",
    "Htar_block = []\n",
    "for i in range(blockNum):\n",
    "    Htar_block.append((1, f'Z{2*i}*Z{2*i+1}'))\n",
    "    Htar_block.append((1, f'Z{2*i}'))\n",
    "    Htar_block.append((1, f'Z{2*i+1}'))\n",
    "    Htar_block.append((1, f'X{2*i}'))\n",
    "    Htar_block.append((1, f'X{2*i+1}'))\n",
    "    Hpen_block += [(1, f'X{4*i}*X{4*i+1}'), (3, f'Z{4*i}*Z{4*i+1}'), (1, f'X{4*i+2}*X{4*i+3}'), (3, f'Z{4*i+2}*Z{4*i+3}')]\n",
    "for i in range(blockNum-1):\n",
    "    Htar_block.append((1, f'Z{2*i+1}*Z{2*i+2}'))\n",
    "print(Htar_block)\n",
    "\n",
    "Henc_block = EncodeTar(Htar_block, blockNum, lambdaPen)\n",
    "print(Henc_block)\n",
    "U = getU(n, blockNum)\n",
    "\n",
    "P = U @ U.conj().T\n",
    "Q = np.identity(P.shape[0]) - P\n",
    "Henc = blocks2Mat(size, Henc_block)\n",
    "Hpen = blocks2Mat(size, Hpen_block)\n",
    "Htar = blocks2Mat(size//2, Htar_block)\n",
    "HpenInverse = np.linalg.pinv(Hpen)\n",
    "\n",
    "print(checkSame(P@Hpen, np.zeros(P.shape)))\n",
    "print(checkSame(P@Hpen@Q, np.zeros(P.shape))) \n",
    "print(checkSame(P@Henc@P - (P@Henc@Q@HpenInverse@Q@Henc@P / lambdaPen), U@Htar@U.conj().T))\n",
    "Hsim = lambdaPen * Hpen + Henc"
   ]
  },
  {
   "cell_type": "code",
   "execution_count": 3,
   "metadata": {},
   "outputs": [
    {
     "name": "stdout",
     "output_type": "stream",
     "text": [
      "True\n"
     ]
    }
   ],
   "source": [
    "np.random.seed(42)\n",
    "epsilons = np.random.uniform(-0.1,0.1,size*3)\n",
    "# epsilons = np.zeros(size*3)\n",
    "V = [PauliTerm(size, f'X{i}', epsilons[i]) for i in range(size)] + [PauliTerm(size, f'Z{i}', epsilons[i+size]) for i in range(size)] + [PauliTerm(size, f'Y{i}', epsilons[i+size]) for i in range(size)]\n",
    "V = sum([p.value() for p in V])\n",
    "\n",
    "print(checkSame(P@V@P, np.zeros(P.shape)))"
   ]
  },
  {
   "cell_type": "code",
   "execution_count": 4,
   "metadata": {},
   "outputs": [
    {
     "name": "stdout",
     "output_type": "stream",
     "text": [
      "t=0.1, err=0.03539280396075681\n"
     ]
    }
   ],
   "source": [
    "# ---- previous version ----\n",
    "t = 0.1\n",
    "Hleft = expm(-1j * t * (Hsim + V))\n",
    "Hright = U @ expm(-1j * t * Htar) @ U.conj().T\n",
    "err = np.linalg.norm((Hleft - Hright)@P, ord = 2)\n",
    "print(f\"t={t}, err={err}\")"
   ]
  },
  {
   "cell_type": "code",
   "execution_count": 5,
   "metadata": {},
   "outputs": [],
   "source": [
    "# @jit(nopython=True)\n",
    "# def exp_minus_iHt(H, t):\n",
    "#     e, u = np.linalg.eigh(H)\n",
    "#     e = np.expand_dims(e, axis=1)\n",
    "#     A = u.conj().T\n",
    "#     A = np.exp(-1j*e*t) * A\n",
    "#     A = u @ A\n",
    "#     return A\n",
    "\n",
    "# @jit(nopython=True)\n",
    "# def exp_minus_iHt_mult_B(H, t, B):\n",
    "#     e, u = np.linalg.eigh(H)\n",
    "#     e = np.expand_dims(e, axis=1)\n",
    "#     A = u.conj().T @ B\n",
    "#     A = np.exp(-1j*e*t) * A\n",
    "#     A = u @ A\n",
    "#     return A\n",
    "\n",
    "# @jit(nopython=True)\n",
    "# def time_evol_err(t, Hsim, V, Htar, U):\n",
    "#     Hleft = exp_minus_iHt_mult_B(Hsim + V, t, U)\n",
    "#     Hright = U @ exp_minus_iHt(Htar, t)\n",
    "#     err = np.linalg.norm(Hleft - Hright, ord = 2)\n",
    "#     return err"
   ]
  },
  {
   "cell_type": "code",
   "execution_count": 6,
   "metadata": {},
   "outputs": [],
   "source": [
    "def exp_minus_iHt(H, t):\n",
    "    \"\"\"\n",
    "    e^{-iHt}\n",
    "    \"\"\"\n",
    "    e, u = np.linalg.eigh(H)\n",
    "    e = np.expand_dims(e, axis=1)\n",
    "    A = u.conj().T\n",
    "    A = np.exp(-1j*e*t) * A\n",
    "    A = u @ A\n",
    "    return A\n",
    "\n",
    "def exp_minus_iHt_mult_B(H, t, B):\n",
    "    \"\"\"\n",
    "    e^{-iHt} B\n",
    "    \"\"\"\n",
    "    e, u = np.linalg.eigh(H)\n",
    "    e = np.expand_dims(e, axis=1)\n",
    "    A = u.conj().T @ B\n",
    "    A = np.exp(-1j*e*t) * A\n",
    "    A = u @ A\n",
    "    return A\n",
    "\n",
    "def time_evol_err(t, Hsim, V, Htar, U):\n",
    "    Hleft = exp_minus_iHt_mult_B(Hsim + V, t, U)\n",
    "    Hright = U @ exp_minus_iHt(Htar, t)\n",
    "    err = np.linalg.norm(Hleft - Hright, ord = 2)\n",
    "    return err"
   ]
  },
  {
   "cell_type": "code",
   "execution_count": 7,
   "metadata": {},
   "outputs": [
    {
     "data": {
      "text/plain": [
       "0.03539280396075802"
      ]
     },
     "execution_count": 7,
     "metadata": {},
     "output_type": "execute_result"
    }
   ],
   "source": [
    "time_evol_err(0.1, Hsim, V, Htar, U)"
   ]
  },
  {
   "cell_type": "code",
   "execution_count": 8,
   "metadata": {},
   "outputs": [
    {
     "data": {
      "text/plain": [
       "0.035392803960756836"
      ]
     },
     "execution_count": 8,
     "metadata": {},
     "output_type": "execute_result"
    }
   ],
   "source": [
    "t = 0.1\n",
    "Hleft = expm(-1j * t * (Hsim + V)) @ U\n",
    "Hright = U @ expm(-1j * t * Htar)\n",
    "np.linalg.norm(Hleft - Hright, ord = 2)"
   ]
  },
  {
   "cell_type": "code",
   "execution_count": 9,
   "metadata": {},
   "outputs": [],
   "source": [
    "Q0 = HpenInverse @ Hpen\n",
    "P0 = np.identity(Q0.shape[0]) - Q0\n",
    "Heff_2nd_order = P0@Henc@P0 - (P0@Henc@Q0@HpenInverse@Q0@Henc@P0 / lambdaPen)"
   ]
  },
  {
   "cell_type": "code",
   "execution_count": 10,
   "metadata": {},
   "outputs": [
    {
     "name": "stdout",
     "output_type": "stream",
     "text": [
      "True\n"
     ]
    }
   ],
   "source": [
    "print(checkSame(P @ Heff_2nd_order @ P, U@Htar@U.conj().T))"
   ]
  },
  {
   "cell_type": "code",
   "execution_count": 11,
   "metadata": {},
   "outputs": [
    {
     "name": "stdout",
     "output_type": "stream",
     "text": [
      "True\n"
     ]
    }
   ],
   "source": [
    "print(checkSame(P @ Heff_2nd_order @ (P0-P), np.zeros(P.shape)))"
   ]
  },
  {
   "cell_type": "markdown",
   "metadata": {},
   "source": []
  },
  {
   "cell_type": "code",
   "execution_count": null,
   "metadata": {},
   "outputs": [],
   "source": []
  }
 ],
 "metadata": {
  "kernelspec": {
   "display_name": "qutip",
   "language": "python",
   "name": "python3"
  },
  "language_info": {
   "codemirror_mode": {
    "name": "ipython",
    "version": 3
   },
   "file_extension": ".py",
   "mimetype": "text/x-python",
   "name": "python",
   "nbconvert_exporter": "python",
   "pygments_lexer": "ipython3",
   "version": "3.8.6"
  }
 },
 "nbformat": 4,
 "nbformat_minor": 2
}
