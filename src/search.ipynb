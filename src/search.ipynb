{
 "cells": [
  {
   "cell_type": "code",
   "execution_count": 14,
   "metadata": {},
   "outputs": [],
   "source": [
    "from logicOp import *"
   ]
  },
  {
   "cell_type": "code",
   "execution_count": 15,
   "metadata": {},
   "outputs": [],
   "source": [
    "blocksize = 4\n",
    "blockNum = 4\n",
    "n = blocksize * blockNum\n",
    "start = time.time()"
   ]
  },
  {
   "cell_type": "code",
   "execution_count": 16,
   "metadata": {},
   "outputs": [
    {
     "ename": "MemoryError",
     "evalue": "Unable to allocate 32.0 GiB for an array with shape (65536, 65536) and data type float64",
     "output_type": "error",
     "traceback": [
      "\u001b[1;31m---------------------------------------------------------------------------\u001b[0m",
      "\u001b[1;31mMemoryError\u001b[0m                               Traceback (most recent call last)",
      "\u001b[1;32m~\\AppData\\Local\\Temp/ipykernel_18868/4123862664.py\u001b[0m in \u001b[0;36m<module>\u001b[1;34m\u001b[0m\n\u001b[0;32m      1\u001b[0m \u001b[0mU\u001b[0m \u001b[1;33m=\u001b[0m \u001b[0mgetU\u001b[0m\u001b[1;33m(\u001b[0m\u001b[0mblocksize\u001b[0m\u001b[1;33m,\u001b[0m \u001b[0mblockNum\u001b[0m\u001b[1;33m)\u001b[0m\u001b[1;33m\u001b[0m\u001b[1;33m\u001b[0m\u001b[0m\n\u001b[1;32m----> 2\u001b[1;33m \u001b[0mP\u001b[0m \u001b[1;33m=\u001b[0m \u001b[0mU\u001b[0m \u001b[1;33m@\u001b[0m \u001b[0mU\u001b[0m\u001b[1;33m.\u001b[0m\u001b[0mconj\u001b[0m\u001b[1;33m(\u001b[0m\u001b[1;33m)\u001b[0m\u001b[1;33m.\u001b[0m\u001b[0mT\u001b[0m\u001b[1;33m\u001b[0m\u001b[1;33m\u001b[0m\u001b[0m\n\u001b[0m\u001b[0;32m      3\u001b[0m \u001b[0mQ\u001b[0m \u001b[1;33m=\u001b[0m \u001b[0mnp\u001b[0m\u001b[1;33m.\u001b[0m\u001b[0midentity\u001b[0m\u001b[1;33m(\u001b[0m\u001b[1;36m2\u001b[0m\u001b[1;33m**\u001b[0m\u001b[0mn\u001b[0m\u001b[1;33m)\u001b[0m \u001b[1;33m-\u001b[0m \u001b[0mP\u001b[0m\u001b[1;33m\u001b[0m\u001b[1;33m\u001b[0m\u001b[0m\n\u001b[0;32m      4\u001b[0m \u001b[0mprint\u001b[0m\u001b[1;33m(\u001b[0m\u001b[0mMEqual\u001b[0m\u001b[1;33m(\u001b[0m\u001b[0mP\u001b[0m\u001b[1;33m@\u001b[0m\u001b[0mP\u001b[0m\u001b[1;33m,\u001b[0m \u001b[0mP\u001b[0m\u001b[1;33m)\u001b[0m\u001b[1;33m)\u001b[0m\u001b[1;33m\u001b[0m\u001b[1;33m\u001b[0m\u001b[0m\n",
      "\u001b[1;31mMemoryError\u001b[0m: Unable to allocate 32.0 GiB for an array with shape (65536, 65536) and data type float64"
     ]
    }
   ],
   "source": [
    "U = getU(blocksize, blockNum)\n",
    "P = U @ U.conj().T\n",
    "Q = np.identity(2**n) - P\n",
    "print(MEqual(P@P, P))"
   ]
  },
  {
   "cell_type": "code",
   "execution_count": 4,
   "metadata": {},
   "outputs": [],
   "source": [
    "g = 3\n",
    "Xeff = (1,0) * (n//2)\n",
    "Zeff = (g,0) * (n//2)\n",
    "Hpen = getHamil(n, Xeff, Zeff)"
   ]
  },
  {
   "cell_type": "code",
   "execution_count": 5,
   "metadata": {},
   "outputs": [],
   "source": [
    "HpenInverse = np.linalg.pinv(Hpen)"
   ]
  },
  {
   "cell_type": "code",
   "execution_count": 9,
   "metadata": {},
   "outputs": [],
   "source": [
    "def EncodeTarBlock(Htar, blockNum, lamb ,crossTerm):\n",
    "    logDict = {}\n",
    "    for i in range(blockNum):\n",
    "        logDict[f'X{2*i}'] = [(-1, f'X{4*i}*X{4*i+2}')]\n",
    "        logDict[f'X{2*i+1}'] = [(1, f'X{4*i}*X{4*i+1}')]\n",
    "        logDict[f'Z{2*i}'] = [(1, f'Z{4*i}*Z{4*i+1}')]\n",
    "        logDict[f'Z{2*i+1}'] = [(1, f'Z{4*i}*Z{4*i+2}')]\n",
    "        logDict[f'Z{2*i}*Z{2*i+1}'] = [(1, f'Z{4*i+1}*Z{4*i+2}')]\n",
    "        # logDict[f'Z{2*i+1}*Z{2*i+2}'] = [(1, f'Z{4*i+4}*Z{4*i+5}'), ((8*lamb/3)**0.5, f'Z{4*i+1}*X{4*i+7}+Z{4*i+3}*X{4*i+7}')]\n",
    "        logDict[f'Z{2*i+1}*Z{2*i+2}'] = crossTerm(i)\n",
    "    res = []\n",
    "    for term in Htar:\n",
    "        after = logDict[term[1]]\n",
    "        for item in after:\n",
    "            res.append((item[0]*term[0], item[1]))\n",
    "    return res"
   ]
  },
  {
   "cell_type": "code",
   "execution_count": 8,
   "metadata": {},
   "outputs": [],
   "source": [
    "T = Hpen @ HpenInverse @ Hpen\n",
    "# print(MEqual(T, Hpen))\n",
    "lambdaPen = 16\n",
    "Q0 = HpenInverse @ Hpen\n",
    "P0 = np.identity(Q0.shape[0]) - Q0"
   ]
  },
  {
   "cell_type": "code",
   "execution_count": 10,
   "metadata": {},
   "outputs": [],
   "source": [
    "\n",
    "def crossTerm(i):\n",
    "    return [(1, f'Z{4*i+1}*X{4*i+7}+Z{4*i+3}*X{4*i+7}')]\n",
    "Henc_block = getHencBlock(blockNum, lambdaPen=16, crossTerm=crossTerm)\n",
    "Htar_block = getHtarBlock(blockNum)\n",
    "Henc_block = EncodeTarBlock(Htar_block, blockNum, lambdaPen, crossTerm)\n",
    "Henc = blocks2Mat(n, Henc_block)\n",
    "Htar = blocks2Mat(n//2, Htar_block)"
   ]
  },
  {
   "cell_type": "code",
   "execution_count": 11,
   "metadata": {},
   "outputs": [],
   "source": [
    "Heff_2nd_order = P0@Henc@P0 - (P0@Henc@Q0@HpenInverse@Q0@Henc@P0 / lambdaPen)"
   ]
  },
  {
   "cell_type": "code",
   "execution_count": 12,
   "metadata": {},
   "outputs": [
    {
     "name": "stdout",
     "output_type": "stream",
     "text": [
      "False\n"
     ]
    }
   ],
   "source": [
    "print(checkSame(P @ Heff_2nd_order @ P, U@Htar@U.conj().T))"
   ]
  },
  {
   "cell_type": "code",
   "execution_count": 13,
   "metadata": {},
   "outputs": [
    {
     "name": "stdout",
     "output_type": "stream",
     "text": [
      "False\n"
     ]
    }
   ],
   "source": [
    "print(checkSame(P @ Heff_2nd_order @ (P0-P), np.zeros(P.shape)))"
   ]
  }
 ],
 "metadata": {
  "kernelspec": {
   "display_name": "Python 3",
   "language": "python",
   "name": "python3"
  },
  "language_info": {
   "codemirror_mode": {
    "name": "ipython",
    "version": 3
   },
   "file_extension": ".py",
   "mimetype": "text/x-python",
   "name": "python",
   "nbconvert_exporter": "python",
   "pygments_lexer": "ipython3",
   "version": "3.8.6"
  }
 },
 "nbformat": 4,
 "nbformat_minor": 2
}
