{
 "cells": [
  {
   "cell_type": "code",
   "execution_count": 2,
   "metadata": {},
   "outputs": [],
   "source": [
    "import matplotlib.pyplot as plt\n",
    "from math import log2\n",
    "import statistics as stat"
   ]
  },
  {
   "cell_type": "code",
   "execution_count": 31,
   "metadata": {},
   "outputs": [
    {
     "name": "stdout",
     "output_type": "stream",
     "text": [
      "[1.2774011884656522, 1.3878798629879046, 1.430072773670888, 1.4521817704759754, 1.468581321759982, 1.47595164630458, 1.4817114621378848, 1.4833971088993314, 1.4842158615928092]\n",
      "[0.03653688617535182, 0.006768376747774141, 0.002261245445404043, 0.0011741014163598794, 0.0004914979309331818, 0.0003428332189105617, 0.0001838933156141283, 7.268348454285023e-05, 3.077720577186697e-05]\n"
     ]
    }
   ],
   "source": [
    "blockNum=3\n",
    "with open(f'output{blockNum}.txt', 'r') as f:\n",
    "    content = f.read()\n",
    "data = eval(content)\n",
    "\n",
    "def stdVariance(array):\n",
    "    mean = sum(array) / len(array)\n",
    "    var = sum([(a - mean)**2 for a in array]) / len(array)\n",
    "    return var**0.5\n",
    "\n",
    "avg = [stat.mean(a[1]) for a in data]\n",
    "var = [stdVariance(a[1]) for a in data]\n",
    "y1 = [avg[i] + 1*var[i] for i in range(len(avg))]\n",
    "y2 = [avg[i] - 1*var[i] for i in range(len(avg))]\n",
    "print(avg)\n",
    "print(var)"
   ]
  },
  {
   "cell_type": "code",
   "execution_count": 38,
   "metadata": {},
   "outputs": [
    {
     "name": "stdout",
     "output_type": "stream",
     "text": [
      "[1.2774011884656522, 1.3878798629879046, 1.430072773670888, 1.4521817704759754, 1.468581321759982, 1.47595164630458, 1.4817114621378848, 1.4833971088993314, 1.4842158615928092]\n"
     ]
    },
    {
     "data": {
      "image/png": "[encoded data removed]",
      "text/plain": [
       "<Figure size 432x288 with 1 Axes>"
      ]
     },
     "metadata": {
      "needs_background": "light"
     },
     "output_type": "display_data"
    }
   ],
   "source": [
    "x = [log2(a[0]) for a in data]\n",
    "y = avg\n",
    "print(y)\n",
    "plt.plot(x,y)\n",
    "plt.yscale(\"log\")\n",
    "plt.scatter(x,y)\n",
    "# plt.fill_between(x, y1, y2)\n",
    "plt.grid()\n",
    "plt.show()\n"
   ]
  }
 ],
 "metadata": {
  "kernelspec": {
   "display_name": "Python 3",
   "language": "python",
   "name": "python3"
  },
  "language_info": {
   "codemirror_mode": {
    "name": "ipython",
    "version": 3
   },
   "file_extension": ".py",
   "mimetype": "text/x-python",
   "name": "python",
   "nbconvert_exporter": "python",
   "pygments_lexer": "ipython3",
   "version": "3.8.6"
  }
 },
 "nbformat": 4,
 "nbformat_minor": 2
}
