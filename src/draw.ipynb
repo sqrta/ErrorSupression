{
 "cells": [
  {
   "cell_type": "code",
   "execution_count": 2,
   "metadata": {},
   "outputs": [],
   "source": [
    "import matplotlib.pyplot as plt\n",
    "from math import log2\n",
    "import statistics as stat"
   ]
  },
  {
   "cell_type": "code",
   "execution_count": 39,
   "metadata": {},
   "outputs": [
    {
     "name": "stdout",
     "output_type": "stream",
     "text": [
      "[1.5047426923369025, 1.2717565967728932, 0.7427520759552991, 0.46746704156172203, 0.3103540055392568, 0.20846719824734397, 0.177055796227309, 0.11076918235356817, 0.0789166931896203, 0.06065602803021645]\n",
      "[0.08546616388378021, 0.1176250487087989, 0.06650697528545432, 0.03879714003303619, 0.028997726038654168, 0.01734702395727323, 0.011899360665450255, 0.005939214828840791, 0.004270600322133348, 0.005196325199952392]\n"
     ]
    }
   ],
   "source": [
    "blockNum=2\n",
    "with open(f'output{blockNum}.txt', 'r') as f:\n",
    "    content = f.read()\n",
    "data = eval(content)\n",
    "\n",
    "def stdVariance(array):\n",
    "    mean = sum(array) / len(array)\n",
    "    var = sum([(a - mean)**2 for a in array]) / len(array)\n",
    "    return var**0.5\n",
    "\n",
    "avg = [stat.mean(a[1]) for a in data]\n",
    "var = [stdVariance(a[1]) for a in data]\n",
    "y1 = [avg[i] + 1*var[i] for i in range(len(avg))]\n",
    "y2 = [avg[i] - 1*var[i] for i in range(len(avg))]\n",
    "print(avg)\n",
    "print(var)"
   ]
  },
  {
   "cell_type": "code",
   "execution_count": 41,
   "metadata": {},
   "outputs": [
    {
     "name": "stdout",
     "output_type": "stream",
     "text": [
      "[1.5047426923369025, 1.2717565967728932, 0.7427520759552991, 0.46746704156172203, 0.3103540055392568, 0.20846719824734397, 0.177055796227309, 0.11076918235356817, 0.0789166931896203, 0.06065602803021645]\n"
     ]
    },
    {
     "data": {
      "image/png": "[encoded data removed]",
      "text/plain": [
       "<Figure size 432x288 with 1 Axes>"
      ]
     },
     "metadata": {
      "needs_background": "light"
     },
     "output_type": "display_data"
    }
   ],
   "source": [
    "x = [log2(a[0]) for a in data]\n",
    "y = avg\n",
    "print(y)\n",
    "plt.plot(x,y)\n",
    "plt.yscale(\"log\")\n",
    "# plt.scatter(x,y)\n",
    "plt.fill_between(x, y1, y2)\n",
    "plt.grid()\n",
    "plt.show()\n"
   ]
  }
 ],
 "metadata": {
  "kernelspec": {
   "display_name": "Python 3",
   "language": "python",
   "name": "python3"
  },
  "language_info": {
   "codemirror_mode": {
    "name": "ipython",
    "version": 3
   },
   "file_extension": ".py",
   "mimetype": "text/x-python",
   "name": "python",
   "nbconvert_exporter": "python",
   "pygments_lexer": "ipython3",
   "version": "3.8.6"
  }
 },
 "nbformat": 4,
 "nbformat_minor": 2
}
